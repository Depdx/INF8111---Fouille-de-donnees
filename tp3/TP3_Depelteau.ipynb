{
    "cells": [
        {
            "cell_type": "markdown",
            "metadata": {
                "id": "4mh2MiuVMazk"
            },
            "source": [
                "# TP3 - Market Basket Analysis\n",
                "INF8111 - Fouille de données, Eté 2024\n",
                "### Membres de l'équipe\n",
                "\n",
                "- Nicolas Depelteau (2083544)\n"
            ]
        },
        {
            "cell_type": "code",
            "execution_count": 51,
            "metadata": {
                "id": "oBYZkM_L5NX9"
            },
            "outputs": [],
            "source": [
                "!rm -rf *\n",
                "import gdown\n",
                "gdown.download_folder(\"https://drive.google.com/drive/folders/1HCnU_8lr5sY69NL6jIXb9GIKm-43dGsk\", quiet=True)\n",
                "ROOT = \"./data/\""
            ]
        },
        {
            "cell_type": "markdown",
            "metadata": {
                "id": "bh1o2bpwPQJG"
            },
            "source": [
                "## Date et directives de remise\n",
                "Vous remettrez l'ensemble des fichiers fichiers nécessaires à la réalisation de TP au sein d'une archive compressée ZIP nommée TP3\\_NomDuMembre1\\_NomDuMembre2\\_NomDuMembre3\n",
                "\n",
                "Cette archive devra, au minimum, inclure ce notebook, nommé TP3\\_NomDuMembre1\\_NomDuMembre2\\_NomDuMembre3.ipynb\n",
                "\n",
                "**Date limite: 23 juin à 23:55**."
            ]
        },
        {
            "cell_type": "markdown",
            "metadata": {
                "id": "taIxayWsmT9m"
            },
            "source": [
                "## 1. Introduction: Market Basket Analysis"
            ]
        },
        {
            "cell_type": "markdown",
            "metadata": {
                "id": "ZQOy7hD8t76L"
            },
            "source": [
                "### Présentation\n",
                "\n",
                "Le *Market Basket Analysis* (MBA) est une technique d'analyse de la fouille de données qui permet de découvrir les associations entre les produits ou leur regroupement. En explorant des motifs intéressants à partir d'une vaste collection de données, le MBA vise à comprendre / révéler les comportements d'achat des clients en se basant sur la théorie selon laquelle si vous avez acheté un certain ensemble de produits, vous êtes plus (ou moins) susceptible d'acheter un autre groupe de produits. En d'autres termes, le MBA permet aux détaillants d'identifier la relation entre les articles que les clients achètent, révélant des tendances d'articles souvent achetés ensemble.\n",
                "\n",
                "Une approche largement utilisée pour explorer ces motifs consiste à construire *** des règles d'association *** telles que\n",
                "- **si** acheté *ITEM_1* **alors** achètera *ITEM_2* avec **confiance** *X*.\n",
                "\n",
                "Ces associations n'ont pas à être des règles individuelles. Ils peuvent impliquer de nombreux éléments. Par exemple, une personne dans un supermarché peut ajouter des œufs dans son panier, puis le MBA peut suggérer qu'elle achètera également du pain et/ou de la farine:\n",
                "\n",
                "+ **si**  acheté *OEUFS* **alors** achètera [*PAIN* avec confiance *0,2*; *FARINE* avec confiance 0,05].\n",
                "\n",
                "Cependant, si la personne décide maintenant d'ajouter de la farine à son panier, la nouvelle règle d'association pourrait être comme ci-dessous, suggérant des ingrédients pour faire un gâteau.\n",
                "\n",
                "+ **si** acheté [*OEUFS, FARINE*] **alors** achètera [*SUCRE* avec confiance 0,45; LEVURE avec confiance 0,12; *PAIN* avec confiance *0,03*].\n",
                "\n",
                "Il existe de nombreux scénarios réels où le MBA joue un rôle central dans l'analyse des données, comme les transactions de supermarché, les commandes en ligne ou l'historique des cartes de crédit. Avec une approche un peu moins mercantile, cet algorithme est aussi utilisé dans le domaine médical. Les spécialistes du marketing peuvent utiliser ces règles d'association pour organiser les produits corrélés plus près les uns des autres sur les étagères des magasins ou faire des suggestions en ligne afin que les clients achètent plus d'articles. Un MBA peut généralement aider les détaillants à répondre aux questions les suivantes:\n",
                "\n",
                "- Quels articles sont souvent achetés ensemble ?\n",
                "- Étant donné un panier, quels articles suggérer ?\n",
                "- Comment placer les articles ensemble sur les étagères ?\n"
            ]
        },
        {
            "cell_type": "markdown",
            "metadata": {
                "id": "_WwuVfQgmaRV"
            },
            "source": [
                "### Objectif\n",
                "\n",
                "Votre objectif dans ce TP est de développer un algorithme MBA pour révéler les motifs en créant des règles d'association dans un ensemble de données volumineux avec plus de trois millions de transactions de supermarché. Cependant, la collecte de règles d'association dans les grands ensembles de données est un problème très intensif en calcul, ce qui rend presque impossible leur exécution sans système distribué. Par conséquent, pour exécuter votre algorithme, vous aurez accès à un cluster de *cloud computing* distribué avec des centaines de cœurs.\n",
                "\n",
                "À cette fin, un algorithme **MapReduce** sera implémenté avec le framework [Apache Spark](http://spark.apache.org), un système informatique distribué rapide. En résumé, Spark est un framework open source conçu avec une méthodologie *scale-out* qui en fait un outil très puissant pour les programmeurs ou les développeurs d'applications pour effectuer un volume massif de calculs et de traitement de données dans des environnements distribués. Spark fournit des API de haut niveau qui facilitent la création d'applications parallèles sans avoir à se soucier de la façon dont votre code et vos données sont parallélisés / distribués par le cluster informatique. Spark fait tout pour vous.\n",
                "\n",
                "La mise en œuvre suivra l'algorithme d'analyse du panier de marché présenté par Jongwook Woo et Yuhang Xu (2012). L'image **workflow.pdf** illustre le flux de travail de l'algorithme et doit être utilisée pour consultation tout au long de ce TP. Les cases bleues sont celles où vous devez implémenter une méthode pour effectuer une fonction de mappage ou de réduction, et les cases grises représentent leur sortie attendue. **Toutes ces opérations sont expliquées en détail dans les sections suivantes.**"
            ]
        },
        {
            "cell_type": "markdown",
            "metadata": {
                "id": "VmJEz5JEMazl"
            },
            "source": [
                "## 1. Configuration de Spark"
            ]
        },
        {
            "cell_type": "markdown",
            "metadata": {
                "id": "kISGZ7w7mue0"
            },
            "source": [
                "#### Exécution avec le notebook Google Colab (fortement conseillé)"
            ]
        },
        {
            "cell_type": "code",
            "execution_count": 52,
            "metadata": {
                "id": "JmUMt4htMazm"
            },
            "outputs": [
                {
                    "name": "stdout",
                    "output_type": "stream",
                    "text": [
                        "Hit:1 https://developer.download.nvidia.com/compute/cuda/repos/ubuntu2204/x86_64  InRelease\n",
                        "Hit:2 https://cloud.r-project.org/bin/linux/ubuntu jammy-cran40/ InRelease                          \n",
                        "Get:3 http://security.ubuntu.com/ubuntu jammy-security InRelease [129 kB]                           \n",
                        "Hit:4 http://archive.ubuntu.com/ubuntu jammy InRelease                                              \n",
                        "Get:5 http://archive.ubuntu.com/ubuntu jammy-updates InRelease [128 kB]                             \n",
                        "Hit:6 https://ppa.launchpadcontent.net/c2d4u.team/c2d4u4.0+/ubuntu jammy InRelease       \n",
                        "Hit:7 https://ppa.launchpadcontent.net/deadsnakes/ppa/ubuntu jammy InRelease              \n",
                        "Hit:8 https://ppa.launchpadcontent.net/graphics-drivers/ppa/ubuntu jammy InRelease        \n",
                        "Hit:9 https://ppa.launchpadcontent.net/ubuntugis/ppa/ubuntu jammy InRelease               \n",
                        "Hit:10 http://archive.ubuntu.com/ubuntu jammy-backports InRelease\n",
                        "Fetched 257 kB in 1s (417 kB/s)\n",
                        "Reading package lists... Done\n",
                        "Requirement already satisfied: pyspark in /usr/local/lib/python3.10/dist-packages (3.5.1)\n",
                        "Requirement already satisfied: py4j==0.10.9.7 in /usr/local/lib/python3.10/dist-packages (from pyspark) (0.10.9.7)\n"
                    ]
                }
            ],
            "source": [
                "import os\n",
                "!apt-get update && apt-get install openjdk-17-jdk-headless -qq > /dev/null\n",
                "os.environ[\"JAVA_HOME\"] = \"/usr/lib/jvm/java-17-openjdk-amd64\"\n",
                "!pip install pyspark"
            ]
        },
        {
            "cell_type": "markdown",
            "metadata": {
                "id": "dGqidjm0m46p"
            },
            "source": [
                "#### Exécution en local\n",
                "\n"
            ]
        },
        {
            "cell_type": "markdown",
            "metadata": {
                "id": "g1PhMitvnCW2"
            },
            "source": [
                "Spark fonctionne sur les systèmes Windows et UNIX (par exemple, Linux, Mac OS). Il est facile d'exécuter Spark localement sur une seule machine - tout ce dont vous avez besoin est d'avoir Java installé sur votre système PATH, ou la variable d'environnement JAVA_HOME pointant vers une installation Java. Il est obligatoire que le **JDK v8** soit installé sur votre système, car Spark ne prend actuellement en charge que cette version. Si ce n'est pas le cas, accédez à [la page Web de Java](https://www.oracle.com/technetwork/java/javase/downloads/jdk8-downloads-2133151.html) pour télécharger et installer une machine virtuelle Java. N'oubliez pas de définir la variable d'environnement JAVA_HOME pour utiliser JDK v8 si votre installation ne le fait pas automatiquement.\n",
                "\n",
                "L'interface entre Python et Spark se fait via **PySpark**, qui peut être installé en exécutant `pip install pyspark` ou configuré en suivant la séquence ci-dessous:\n",
                "\n",
                "1. D'abord, allez sur http://spark.apache.org/downloads\n",
                "2. Sélectionnez la dernière version de Spark et le package pré-construit pour Apache Hadoop 2.7\n",
                "3. Cliquez pour télécharger **spark-2.4.5-bin-hadoop2.7.tgz** et décompressez-le dans le dossier de votre choix.\n",
                "4. Ensuite, exportez les variables suivantes pour lier PYSPARK (l'interface python de Spark) à votre distribution python dans votre fichier `~/.bash_profile`.\n",
                "\n",
                "``\n",
                "export SPARK_HOME=/chemin/ vers / spark-2.4.5-bin-hadoop2.7\n",
                "export PYTHONPATH=\"$SPARK_HOME/python:$SPARK_HOME/python/lib/py4j-0.10.7-src.zip:$SPARK_HOME/python/lib/pyspark.zip:$ PYTHONPATH\"\n",
                "export PYSPARK_PYTHON=/chemin/vers/votre/python3\n",
                "``\n",
                "\n",
                "5. Exécutez `source ~./bash_profile` pour effectuer les modifications et redémarrer cette session de notebook jupyter."
            ]
        },
        {
            "cell_type": "markdown",
            "metadata": {
                "id": "rovSCW_vYs7m"
            },
            "source": [
                "#### Test de l'installation\n",
                "À l'aide du code suivant, vous pouvez tester si Spark est correctement installé."
            ]
        },
        {
            "cell_type": "code",
            "execution_count": 53,
            "metadata": {
                "id": "UxgNiBFkYs7n"
            },
            "outputs": [
                {
                    "name": "stdout",
                    "output_type": "stream",
                    "text": [
                        "+-----+\n",
                        "|hello|\n",
                        "+-----+\n",
                        "|spark|\n",
                        "+-----+\n",
                        "\n"
                    ]
                }
            ],
            "source": [
                "import pyspark\n",
                "from pyspark.sql import SparkSession\n",
                "spark = SparkSession.builder.getOrCreate()\n",
                "df = spark.sql(\"select 'spark' as hello \")\n",
                "df.show()"
            ]
        },
        {
            "cell_type": "markdown",
            "metadata": {
                "id": "MSbOqazVnsMf"
            },
            "source": [
                "### 1.1 Exemple de comptage de produits / Products Counting Example"
            ]
        },
        {
            "cell_type": "markdown",
            "metadata": {
                "id": "QaYpUpOFMazu"
            },
            "source": [
                "Pour tester votre installation et commencer à vous familiariser avec Spark, nous suivrons un exemple qui compte combien de fois les produits du GroceryDataset dataset ont été achetés.\n",
                "\n",
                "Le principal point d'entrée pour commencer la programmation avec Spark est [l'API RDD](https://spark.apache.org/docs/latest/rdd-programming-guide.html), une excellente abstraction Spark pour travailler avec MapReduce. RDD est une collection d'éléments partitionnés sur les nœuds du cluster qui peuvent fonctionner en parallèle. En d'autres termes, RDD est la façon dont Spark maintient vos données prêtes à exécuter une fonction (par exemple, une fonction Map ou une fonction reduce) en parallèle. **Ne vous inquiétez pas si cela semble toujours déroutant, il sera clair une fois que vous commencerez à l'implémenter**. Cependant, cela fait partie de ce TP d'étudier / consulter [Spark python API](https://spark.apache.org/docs/latest/api/python/) et d'apprendre à l'utiliser. Certaines fonctions utiles offertes par l'API RDD sont:\n",
                "\n",
                "1. **map**: return a new RDD by applying a function to each element of this RDD.\n",
                "2. **flatMap**: return a new RDD by first applying a function to all elements of this RDD, and then flattening the results. **Should be used when each entry will yield more than one mapped element**\n",
                "3. **reduce**: reduces the elements of this RDD using the specified commutative and associative binary operator.\n",
                "4. **reduceByKey**: merge the values for each key using an associative and commutative reduce function\n",
                "5. **groupByKey**: group the values for each key in the RDD into a single sequence\n",
                "6. **collect**: return a list that contains all of the elements in this RDD. **Should not be used when working with a lot of data**\n",
                "7. **takeSample**: return a sampled subset of this RDD\n",
                "8. **count**: return the number of elements in this RDD.\n",
                "9. **filter**: return a new RDD containing only the elements that satisfy a predicate."
            ]
        },
        {
            "cell_type": "code",
            "execution_count": 54,
            "metadata": {
                "id": "NZDz1nrBMazu"
            },
            "outputs": [
                {
                    "name": "stdout",
                    "output_type": "stream",
                    "text": [
                        "Grocery dataset\n",
                        "+--------+--------------------+\n",
                        "|order_id|         transaction|\n",
                        "+--------+--------------------+\n",
                        "|       0|  MILK,BREAD,BISCUIT|\n",
                        "|       1|BREAD,MILK,BISCUI...|\n",
                        "|       2| BREAD,TEA,BOURNVITA|\n",
                        "|       3|JAM,MAGGI,BREAD,MILK|\n",
                        "|       4|   MAGGI,TEA,BISCUIT|\n",
                        "|       5| BREAD,TEA,BOURNVITA|\n",
                        "|       6|MAGGI,TEA,CORNFLAKES|\n",
                        "|       7|MAGGI,BREAD,TEA,B...|\n",
                        "|       8| JAM,MAGGI,BREAD,TEA|\n",
                        "|       9|          BREAD,MILK|\n",
                        "|      10|COFFEE,COCK,BISCU...|\n",
                        "|      11|COFFEE,COCK,BISCU...|\n",
                        "|      12|COFFEE,SUGER,BOUR...|\n",
                        "|      13|   BREAD,COFFEE,COCK|\n",
                        "|      14| BREAD,SUGER,BISCUIT|\n",
                        "|      15|COFFEE,SUGER,CORN...|\n",
                        "|      16|BREAD,SUGER,BOURN...|\n",
                        "|      17|  BREAD,COFFEE,SUGER|\n",
                        "|      18|  BREAD,COFFEE,SUGER|\n",
                        "|      19|TEA,MILK,COFFEE,C...|\n",
                        "+--------+--------------------+\n",
                        "\n",
                        "Grocery dataframe as a RDD object (list of Row objects):\n",
                        "\t [Row(order_id=0, transaction='MILK,BREAD,BISCUIT'), Row(order_id=1, transaction='BREAD,MILK,BISCUIT,CORNFLAKES'), Row(order_id=2, transaction='BREAD,TEA,BOURNVITA'), Row(order_id=3, transaction='JAM,MAGGI,BREAD,MILK'), Row(order_id=4, transaction='MAGGI,TEA,BISCUIT'), Row(order_id=5, transaction='BREAD,TEA,BOURNVITA'), Row(order_id=6, transaction='MAGGI,TEA,CORNFLAKES'), Row(order_id=7, transaction='MAGGI,BREAD,TEA,BISCUIT'), Row(order_id=8, transaction='JAM,MAGGI,BREAD,TEA'), Row(order_id=9, transaction='BREAD,MILK'), Row(order_id=10, transaction='COFFEE,COCK,BISCUIT,CORNFLAKES'), Row(order_id=11, transaction='COFFEE,COCK,BISCUIT,CORNFLAKES'), Row(order_id=12, transaction='COFFEE,SUGER,BOURNVITA'), Row(order_id=13, transaction='BREAD,COFFEE,COCK'), Row(order_id=14, transaction='BREAD,SUGER,BISCUIT'), Row(order_id=15, transaction='COFFEE,SUGER,CORNFLAKES'), Row(order_id=16, transaction='BREAD,SUGER,BOURNVITA'), Row(order_id=17, transaction='BREAD,COFFEE,SUGER'), Row(order_id=18, transaction='BREAD,COFFEE,SUGER'), Row(order_id=19, transaction='TEA,MILK,COFFEE,CORNFLAKES')]\n",
                        "\n",
                        "Mapped products:\n",
                        "\t [('MILK', 1), ('BREAD', 1), ('BISCUIT', 1), ('BREAD', 1), ('MILK', 1), ('BISCUIT', 1), ('CORNFLAKES', 1), ('BREAD', 1), ('TEA', 1), ('BOURNVITA', 1), ('JAM', 1), ('MAGGI', 1), ('BREAD', 1), ('MILK', 1), ('MAGGI', 1), ('TEA', 1), ('BISCUIT', 1), ('BREAD', 1), ('TEA', 1), ('BOURNVITA', 1), ('MAGGI', 1), ('TEA', 1), ('CORNFLAKES', 1), ('MAGGI', 1), ('BREAD', 1), ('TEA', 1), ('BISCUIT', 1), ('JAM', 1), ('MAGGI', 1), ('BREAD', 1), ('TEA', 1), ('BREAD', 1), ('MILK', 1), ('COFFEE', 1), ('COCK', 1), ('BISCUIT', 1), ('CORNFLAKES', 1), ('COFFEE', 1), ('COCK', 1), ('BISCUIT', 1), ('CORNFLAKES', 1), ('COFFEE', 1), ('SUGER', 1), ('BOURNVITA', 1), ('BREAD', 1), ('COFFEE', 1), ('COCK', 1), ('BREAD', 1), ('SUGER', 1), ('BISCUIT', 1), ('COFFEE', 1), ('SUGER', 1), ('CORNFLAKES', 1), ('BREAD', 1), ('SUGER', 1), ('BOURNVITA', 1), ('BREAD', 1), ('COFFEE', 1), ('SUGER', 1), ('BREAD', 1), ('COFFEE', 1), ('SUGER', 1), ('TEA', 1), ('MILK', 1), ('COFFEE', 1), ('CORNFLAKES', 1)]\n",
                        "\n",
                        "Reduced (merged) products:\n",
                        "\t [('MILK', 5), ('BREAD', 13), ('BISCUIT', 7), ('CORNFLAKES', 6), ('TEA', 7), ('BOURNVITA', 4), ('JAM', 2), ('MAGGI', 5), ('COFFEE', 8), ('COCK', 3), ('SUGER', 6)]\n",
                        "\n",
                        "Visualizing as a dataframe:\n",
                        "+----------+-------------+\n",
                        "|   product|count_product|\n",
                        "+----------+-------------+\n",
                        "|      MILK|            5|\n",
                        "|     BREAD|           13|\n",
                        "|   BISCUIT|            7|\n",
                        "|CORNFLAKES|            6|\n",
                        "|       TEA|            7|\n",
                        "| BOURNVITA|            4|\n",
                        "|       JAM|            2|\n",
                        "|     MAGGI|            5|\n",
                        "|    COFFEE|            8|\n",
                        "|      COCK|            3|\n",
                        "|     SUGER|            6|\n",
                        "+----------+-------------+\n",
                        "\n"
                    ]
                }
            ],
            "source": [
                "from pyspark.sql import SparkSession\n",
                "from pyspark.sql.functions import monotonically_increasing_id\n",
                "\n",
                "def map_to_product(row):\n",
                "    \"\"\"\n",
                "    Map each transaction into a set of KEY-VALUE elements.\n",
                "    The KEY is the word (product) itself and the VALUE is its number of apparitions.\n",
                "    \"\"\"\n",
                "    products = row.transaction.split(',') # split products from the column transaction\n",
                "    for p in products:\n",
                "        yield (p, 1)\n",
                "\n",
                "def reduce_product_by_key(value1, value2):\n",
                "    \"Reduce the mapped objects to unique words by merging (summing ) their values\"\n",
                "    return value1+value2\n",
                "\n",
                "# Initializates a object of SparkSession class, main entry point to Spark's funcionalites\n",
                "spark = SparkSession.builder.getOrCreate()\n",
                "\n",
                "# Read a grocery dataset\n",
                "grocery = spark.read.csv(ROOT + \"GroceryDataset.csv\") \\\n",
                "              .withColumnRenamed('_c0', 'transaction') \\\n",
                "              .select(\"*\").withColumn(\"order_id\", monotonically_increasing_id())\n",
                "\n",
                "grocery = grocery.select(\"order_id\", \"transaction\")\n",
                "\n",
                "print(\"Grocery dataset\")\n",
                "grocery.show()\n",
                "\n",
                "# Obtain a RDD object to call a map function\n",
                "grocery_rdd = grocery.rdd\n",
                "print(\"Grocery dataframe as a RDD object (list of Row objects):\\n\\t\", grocery_rdd.collect())\n",
                "\n",
                "# Map function to identify all products\n",
                "grocery_rdd = grocery_rdd.flatMap(map_to_product)\n",
                "print(\"\\nMapped products:\\n\\t\", grocery_rdd.collect())\n",
                "\n",
                "# Reduce function to merge values of elements that share the same KEY\n",
                "grocery_rdd = grocery_rdd.reduceByKey(reduce_product_by_key)\n",
                "print(\"\\nReduced (merged) products:\\n\\t\", grocery_rdd.collect())\n",
                "\n",
                "print(\"\\nVisualizing as a dataframe:\")\n",
                "grocery_rdd.toDF([\"product\", \"count_product\"]).show()"
            ]
        },
        {
            "cell_type": "markdown",
            "metadata": {
                "id": "PpJGQmzXMazz"
            },
            "source": [
                "### 1.2 Travailler avec Spark Dataframe / Working with Spark Dataframes\n",
                "\n",
                "Dans l'exemple ci-dessus, nous avons brièvement utilisé une classe Dataframe de Spark, mais uniquement pour obtenir un objet RDD avec ``toy.rdd`` et pour aficher les données sous forme de tableau structuré avec le ``show ()`` une fonction. Cependant, [Dataframe](http://spark.apache.org/docs/latest/api/python/) est une partie cruciale de la version actuelle de Spark et est construit sur l'API RDD. Il s'agit d'une collection distribuée de lignes sous des colonnes nommées, identique à une table dans une base de données relationnelle. Le Dataframe de Spark fonctionne de la même manière que [Pandas](https://pandas.pydata.org/pandas-docs/stable/reference/api/pandas.DataFrame.html). En fait, nous pouvons exporter (obtenir) une Dataframe Spark vers (à partir de) ​​une Dataframe pandas avec la fonction ``toPandas()``  (``spark.createDataFrame``).\n",
                "\n",
                "Une fonctionnalité centrale du Dataframe est de bénéficier du [Spark SQL](https://spark.apache.org/docs/latest/sql-programming-guide.html#sql), un module qui permet des requêtes SQL sur des données structurées. Par exemple, le même « exemple de comptage de produits » aurait pu être implémenté comme une séquence d'opérations SQL sur les données:"
            ]
        },
        {
            "cell_type": "code",
            "execution_count": 55,
            "metadata": {
                "id": "oFL6BuIDMaz0"
            },
            "outputs": [
                {
                    "name": "stdout",
                    "output_type": "stream",
                    "text": [
                        "New column 'products': exploding the transaction's products to a new row\n",
                        "+--------+--------------------+----------+\n",
                        "|order_id|         transaction|  products|\n",
                        "+--------+--------------------+----------+\n",
                        "|       0|  MILK,BREAD,BISCUIT|      MILK|\n",
                        "|       0|  MILK,BREAD,BISCUIT|     BREAD|\n",
                        "|       0|  MILK,BREAD,BISCUIT|   BISCUIT|\n",
                        "|       1|BREAD,MILK,BISCUI...|     BREAD|\n",
                        "|       1|BREAD,MILK,BISCUI...|      MILK|\n",
                        "|       1|BREAD,MILK,BISCUI...|   BISCUIT|\n",
                        "|       1|BREAD,MILK,BISCUI...|CORNFLAKES|\n",
                        "|       2| BREAD,TEA,BOURNVITA|     BREAD|\n",
                        "|       2| BREAD,TEA,BOURNVITA|       TEA|\n",
                        "|       2| BREAD,TEA,BOURNVITA| BOURNVITA|\n",
                        "|       3|JAM,MAGGI,BREAD,MILK|       JAM|\n",
                        "|       3|JAM,MAGGI,BREAD,MILK|     MAGGI|\n",
                        "|       3|JAM,MAGGI,BREAD,MILK|     BREAD|\n",
                        "|       3|JAM,MAGGI,BREAD,MILK|      MILK|\n",
                        "|       4|   MAGGI,TEA,BISCUIT|     MAGGI|\n",
                        "|       4|   MAGGI,TEA,BISCUIT|       TEA|\n",
                        "|       4|   MAGGI,TEA,BISCUIT|   BISCUIT|\n",
                        "|       5| BREAD,TEA,BOURNVITA|     BREAD|\n",
                        "|       5| BREAD,TEA,BOURNVITA|       TEA|\n",
                        "|       5| BREAD,TEA,BOURNVITA| BOURNVITA|\n",
                        "+--------+--------------------+----------+\n",
                        "only showing top 20 rows\n",
                        "\n",
                        "Couting unique products:\n",
                        "+----------+-------------+\n",
                        "|  products|count_product|\n",
                        "+----------+-------------+\n",
                        "|     BREAD|           13|\n",
                        "|    COFFEE|            8|\n",
                        "|       TEA|            7|\n",
                        "|   BISCUIT|            7|\n",
                        "|CORNFLAKES|            6|\n",
                        "|     SUGER|            6|\n",
                        "|      MILK|            5|\n",
                        "|     MAGGI|            5|\n",
                        "| BOURNVITA|            4|\n",
                        "|      COCK|            3|\n",
                        "|       JAM|            2|\n",
                        "+----------+-------------+\n",
                        "\n"
                    ]
                }
            ],
            "source": [
                "import pyspark.sql.functions as f\n",
                "\n",
                "# Creates a new column, products, with all products appering in each transaction\n",
                "print('New column \\'products\\': exploding the transaction\\'s products to a new row')\n",
                "df_grocery = grocery.withColumn('products', f.explode(f.split(grocery.transaction, ',')))\n",
                "df_grocery.show()\n",
                "\n",
                "# Performs a select query and group rows by the product name, aggreagating by counting\n",
                "print('Couting unique products:')\n",
                "df_grocery.select(df_grocery.products)\\\n",
                "      .groupBy(df_grocery.products)\\\n",
                "      .agg(f.count('products').alias('count_product'))\\\n",
                "      .sort('count_product', ascending=False)\\\n",
                "      .show()"
            ]
        },
        {
            "cell_type": "markdown",
            "metadata": {
                "id": "W4HFs8CVMaz3"
            },
            "source": [
                "En outre, les mêmes opérations SQL effectuées ci-dessus auraient pu être effectuées avec une requête en langage SQL traditionnel comme indiqué ci-dessous:"
            ]
        },
        {
            "cell_type": "code",
            "execution_count": 56,
            "metadata": {
                "id": "O_eYl-7tMaz3"
            },
            "outputs": [
                {
                    "name": "stdout",
                    "output_type": "stream",
                    "text": [
                        "+----------+-------------+\n",
                        "|  products|product_count|\n",
                        "+----------+-------------+\n",
                        "|     BREAD|           13|\n",
                        "|    COFFEE|            8|\n",
                        "|       TEA|            7|\n",
                        "|   BISCUIT|            7|\n",
                        "|CORNFLAKES|            6|\n",
                        "|     SUGER|            6|\n",
                        "|      MILK|            5|\n",
                        "|     MAGGI|            5|\n",
                        "| BOURNVITA|            4|\n",
                        "|      COCK|            3|\n",
                        "|       JAM|            2|\n",
                        "+----------+-------------+\n",
                        "\n"
                    ]
                }
            ],
            "source": [
                "# Creates a relational table Grocery in the Spark session\n",
                "df_grocery.createOrReplaceTempView(\"Grocery\")\n",
                "\n",
                "spark.sql(\"SELECT t.products, COUNT(t.products) AS product_count\"\n",
                "          \" FROM Grocery t\"\n",
                "          \" GROUP BY t.products\"\n",
                "          \" ORDER BY product_count DESC\").show()"
            ]
        },
        {
            "cell_type": "markdown",
            "metadata": {
                "id": "MTMT2RlqQBj9"
            },
            "source": [
                "Ces concepts SQL sont mentionnés ici car ils nous seront utiles lors du TP, principalement dans la section 3, pour manipuler les données du supermarché, qui sont structurées en tableaux. Ainsi, si vous n'êtes pas familier avec SQL, il est recommandé de suivre un [tutoriel](https://www.w3schools.com/sql/) pour comprendre les bases."
            ]
        },
        {
            "cell_type": "markdown",
            "metadata": {
                "id": "s1oZzC-ZQEE0"
            },
            "source": [
                "\n",
                "\n",
                "## 2. Algorithme MBA (45 points)\n",
                "Les sections suivantes expliquent comment développer chaque étape de l'algorithme MapReduce pour notre application commerciale. La figure workflow.pdf illustre chaque étape de l'algorithme."
            ]
        },
        {
            "cell_type": "markdown",
            "metadata": {
                "id": "T0Onr2NxMaz8"
            },
            "source": [
                "\n",
                "\n",
                "### 2.1 Map to Patterns (10 points)\n",
                "Pour un sous-ensemble de transactions (c'est-à-dire les lignes de notre grocery dataset), chaque transaction doit être **mappée** vers un ensemble de *motifs d'achat* trouvés dans la transaction. Formellement, ces motifs sont des sous-ensembles de produits qui représentent un groupe d'articles achetés ensemble.\n",
                "\n",
                "Pour le framework MapReduce, chaque motif doit être créé comme un élément *KEY-VALUE*, où la KEY peut prendre la forme d'un singleton, d'une paire ou d'un trio de produits présents dans la transaction. Plus précisément, pour chaque transaction, la fonction de mappage doit générer tous les sous-ensembles **UNIQUE** possibles de taille **UN, DEUX ou TROIS**. La VALEUR associée à chaque KEY est le nombre de fois que la KEY est apparue dans la transaction (si nous supposons qu'aucun produit n'apparaît plus d'une fois dans la transaction, cette valeur est toujours égale à un).\n",
                "\n",
                "Maintenant, implémentez la fonction **map_to_patterns** qui reçoit une transaction (une ligne du dataset) et retourne les motifs trouvés dans la transaction. Les éléments mappés sont un tuple (KEY, VALUE), où KEY est également un tuple de noms de produits. Il est crucial de noter que, puisque chaque entrée (transaction) de la fonction MAP produira **plus** un élément KEY-VALUE, un *flatMap* doit être invoqué pour cette étape. Pour le \"grocery dataset\", la sortie attendue est :\n",
                "\n",
                "<pre style=\"align:center; border:1px solid black;font-size: 8pt; line-height: 1.1; height: auto; width: 20em; padding-left:1px\">\n",
                "<code>\n",
                "+-----------------------------------+-----------+\n",
                "|patterns                           |occurrences|\n",
                "+-----------------------------------+-----------+\n",
                "|('BISCUIT', 'BREAD')               |1          |\n",
                "|('BISCUIT', 'BREAD')               |1          |\n",
                "|('BISCUIT', 'BREAD')               |1          |\n",
                "|('BISCUIT', 'BREAD')               |1          |\n",
                "|('BISCUIT', 'BREAD', 'CORNFLAKES') |1          |\n",
                "|('BISCUIT', 'BREAD', 'MAGGI')      |1          |\n",
                "|('BISCUIT', 'BREAD', 'MILK')       |1          |\n",
                "|('BISCUIT', 'BREAD', 'MILK')       |1          |\n",
                "|('BISCUIT', 'BREAD', 'SUGER')      |1          |\n",
                "|('BISCUIT', 'BREAD', 'TEA')        |1          |\n",
                "|('BISCUIT', 'COCK')                |1          |\n",
                "|('BISCUIT', 'COCK')                |1          |\n",
                "|('BISCUIT', 'COCK', 'COFFEE')      |1          |\n",
                "|('BISCUIT', 'COCK', 'COFFEE')      |1          |\n",
                "|('BISCUIT', 'COCK', 'CORNFLAKES')  |1          |\n",
                "|('BISCUIT', 'COCK', 'CORNFLAKES')  |1          |\n",
                "|('BISCUIT', 'COFFEE')              |1          |\n",
                "|('BISCUIT', 'COFFEE')              |1          |\n",
                "|('BISCUIT', 'COFFEE', 'CORNFLAKES')|1          |\n",
                "|('BISCUIT', 'COFFEE', 'CORNFLAKES')|1          |\n",
                "|('BISCUIT', 'CORNFLAKES')          |1          |\n",
                "|('BISCUIT', 'CORNFLAKES')          |1          |\n",
                "|('BISCUIT', 'CORNFLAKES')          |1          |\n",
                "|('BISCUIT', 'CORNFLAKES', 'MILK')  |1          |\n",
                "|('BISCUIT', 'MAGGI')               |1          |\n",
                "|('BISCUIT', 'MAGGI')               |1          |\n",
                "|('BISCUIT', 'MAGGI', 'TEA')        |1          |\n",
                "|('BISCUIT', 'MAGGI', 'TEA')        |1          |\n",
                "|('BISCUIT', 'MILK')                |1          |\n",
                "|('BISCUIT', 'MILK')                |1          |\n",
                "|('BISCUIT', 'SUGER')               |1          |\n",
                "|('BISCUIT', 'TEA')                 |1          |\n",
                "|('BISCUIT', 'TEA')                 |1          |\n",
                "|('BISCUIT',)                       |1          |\n",
                "|('BISCUIT',)                       |1          |\n",
                "|('BISCUIT',)                       |1          |\n",
                "|('BISCUIT',)                       |1          |\n",
                "|('BISCUIT',)                       |1          |\n",
                "|('BISCUIT',)                       |1          |\n",
                "|('BISCUIT',)                       |1          |\n",
                "|('BOURNVITA', 'BREAD')             |1          |\n",
                "|('BOURNVITA', 'BREAD')             |1          |\n",
                "|('BOURNVITA', 'BREAD')             |1          |\n",
                "|('BOURNVITA', 'BREAD', 'SUGER')    |1          |\n",
                "|('BOURNVITA', 'BREAD', 'TEA')      |1          |\n",
                "|('BOURNVITA', 'BREAD', 'TEA')      |1          |\n",
                "|('BOURNVITA', 'COFFEE')            |1          |\n",
                "|('BOURNVITA', 'COFFEE', 'SUGER')   |1          |\n",
                "|('BOURNVITA', 'SUGER')             |1          |\n",
                "|('BOURNVITA', 'SUGER')             |1          |\n",
                "+-----------------------------------+-----------+\n",
                "</code>\n",
                "</pre>\n",
                "\n",
                "Votre sortie devra ainsi être **exactement** la même, sans quoi aucun point ne pourra vous être attribué pour cette question."
            ]
        },
        {
            "cell_type": "code",
            "execution_count": 57,
            "metadata": {
                "id": "BscKKDAjMaz9"
            },
            "outputs": [
                {
                    "name": "stdout",
                    "output_type": "stream",
                    "text": [
                        "+-----------------------------------+-----------+\n",
                        "|patterns                           |occurrences|\n",
                        "+-----------------------------------+-----------+\n",
                        "|('BISCUIT', 'BREAD')               |1          |\n",
                        "|('BISCUIT', 'BREAD')               |1          |\n",
                        "|('BISCUIT', 'BREAD')               |1          |\n",
                        "|('BISCUIT', 'BREAD')               |1          |\n",
                        "|('BISCUIT', 'BREAD', 'CORNFLAKES') |1          |\n",
                        "|('BISCUIT', 'BREAD', 'MAGGI')      |1          |\n",
                        "|('BISCUIT', 'BREAD', 'MILK')       |1          |\n",
                        "|('BISCUIT', 'BREAD', 'MILK')       |1          |\n",
                        "|('BISCUIT', 'BREAD', 'SUGER')      |1          |\n",
                        "|('BISCUIT', 'BREAD', 'TEA')        |1          |\n",
                        "|('BISCUIT', 'COCK')                |1          |\n",
                        "|('BISCUIT', 'COCK')                |1          |\n",
                        "|('BISCUIT', 'COCK', 'COFFEE')      |1          |\n",
                        "|('BISCUIT', 'COCK', 'COFFEE')      |1          |\n",
                        "|('BISCUIT', 'COCK', 'CORNFLAKES')  |1          |\n",
                        "|('BISCUIT', 'COCK', 'CORNFLAKES')  |1          |\n",
                        "|('BISCUIT', 'COFFEE')              |1          |\n",
                        "|('BISCUIT', 'COFFEE')              |1          |\n",
                        "|('BISCUIT', 'COFFEE', 'CORNFLAKES')|1          |\n",
                        "|('BISCUIT', 'COFFEE', 'CORNFLAKES')|1          |\n",
                        "|('BISCUIT', 'CORNFLAKES')          |1          |\n",
                        "|('BISCUIT', 'CORNFLAKES')          |1          |\n",
                        "|('BISCUIT', 'CORNFLAKES')          |1          |\n",
                        "|('BISCUIT', 'CORNFLAKES', 'MILK')  |1          |\n",
                        "|('BISCUIT', 'MAGGI')               |1          |\n",
                        "|('BISCUIT', 'MAGGI')               |1          |\n",
                        "|('BISCUIT', 'MAGGI', 'TEA')        |1          |\n",
                        "|('BISCUIT', 'MAGGI', 'TEA')        |1          |\n",
                        "|('BISCUIT', 'MILK')                |1          |\n",
                        "|('BISCUIT', 'MILK')                |1          |\n",
                        "|('BISCUIT', 'SUGER')               |1          |\n",
                        "|('BISCUIT', 'TEA')                 |1          |\n",
                        "|('BISCUIT', 'TEA')                 |1          |\n",
                        "|('BISCUIT',)                       |1          |\n",
                        "|('BISCUIT',)                       |1          |\n",
                        "|('BISCUIT',)                       |1          |\n",
                        "|('BISCUIT',)                       |1          |\n",
                        "|('BISCUIT',)                       |1          |\n",
                        "|('BISCUIT',)                       |1          |\n",
                        "|('BISCUIT',)                       |1          |\n",
                        "|('BOURNVITA', 'BREAD')             |1          |\n",
                        "|('BOURNVITA', 'BREAD')             |1          |\n",
                        "|('BOURNVITA', 'BREAD')             |1          |\n",
                        "|('BOURNVITA', 'BREAD', 'SUGER')    |1          |\n",
                        "|('BOURNVITA', 'BREAD', 'TEA')      |1          |\n",
                        "|('BOURNVITA', 'BREAD', 'TEA')      |1          |\n",
                        "|('BOURNVITA', 'COFFEE')            |1          |\n",
                        "|('BOURNVITA', 'COFFEE', 'SUGER')   |1          |\n",
                        "|('BOURNVITA', 'SUGER')             |1          |\n",
                        "|('BOURNVITA', 'SUGER')             |1          |\n",
                        "+-----------------------------------+-----------+\n",
                        "only showing top 50 rows\n",
                        "\n"
                    ]
                }
            ],
            "source": [
                "from itertools import combinations\n",
                "\n",
                "def format_tuples(pattern):\n",
                "    \"\"\"\n",
                "    Used for visualizition.\n",
                "    Transforms tuples to a string since Dataframe does not support column of tuples with different sizes\n",
                "    (a,b,c) -> '(a,b,c)'\n",
                "    \"\"\"\n",
                "    return (str(pattern[0]), str(pattern[1]))\n",
                "\n",
                "def map_to_patterns(row):\n",
                "    products = row.transaction.split(',') # split products from the column transaction\n",
                "    products.sort()\n",
                "    for i in range(3, 0, -1):\n",
                "        for p in combinations(products, i):\n",
                "            yield (p, 1)\n",
                "\n",
                "grocery_rdd = grocery.rdd\n",
                "patterns_rdd = grocery_rdd.flatMap(map_to_patterns)\n",
                "\n",
                "# # Output as dataframe\n",
                "patterns_rdd.map(format_tuples).toDF(['patterns', 'occurrences']).sort(['patterns']).show(50, truncate=False)"
            ]
        },
        {
            "cell_type": "markdown",
            "metadata": {
                "id": "YvvRw0plMa0B"
            },
            "source": [
                "### 2.2  Reduce patterns  (2,5 points)\n",
                "Une fois que différents processeurs ont traité les transactions, une fonction **reduce** doit être appelée pour combiner des KEYS identiques (le sous-ensemble de produits) et calculer le nombre total de ses occurrences dans le dataset. En d'autres termes, cette procédure de réduction doit additionner la *VALUE* de chaque KEY identique.\n",
                "\n",
                "Créez ci-dessous une fonction **reduce_patterns** qui doit additionner la VALUE de chaque motif.\n",
                "Pour le \"grocery dataset\", la sortie attendue est:\n",
                "\n",
                "<pre style=\"align:center; border:1px solid black;font-size: 8pt; line-height: 1.1; height: auto; width: 28em; padding-left:5px\">\n",
                "<code>\n",
                "+-----------------------------------+--------------------+\n",
                "|patterns                           |combined_occurrences|\n",
                "+-----------------------------------+--------------------+\n",
                "|('BISCUIT', 'BREAD')               |4                   |\n",
                "|('BISCUIT', 'BREAD', 'CORNFLAKES') |1                   |\n",
                "|('BISCUIT', 'BREAD', 'MAGGI')      |1                   |\n",
                "|('BISCUIT', 'BREAD', 'MILK')       |2                   |\n",
                "|('BISCUIT', 'BREAD', 'SUGER')      |1                   |\n",
                "|('BISCUIT', 'BREAD', 'TEA')        |1                   |\n",
                "|('BISCUIT', 'COCK')                |2                   |\n",
                "|('BISCUIT', 'COCK', 'COFFEE')      |2                   |\n",
                "|('BISCUIT', 'COCK', 'CORNFLAKES')  |2                   |\n",
                "|('BISCUIT', 'COFFEE')              |2                   |\n",
                "|('BISCUIT', 'COFFEE', 'CORNFLAKES')|2                   |\n",
                "|('BISCUIT', 'CORNFLAKES')          |3                   |\n",
                "|('BISCUIT', 'CORNFLAKES', 'MILK')  |1                   |\n",
                "|('BISCUIT', 'MAGGI')               |2                   |\n",
                "|('BISCUIT', 'MAGGI', 'TEA')        |2                   |\n",
                "|('BISCUIT', 'MILK')                |2                   |\n",
                "|('BISCUIT', 'SUGER')               |1                   |\n",
                "|('BISCUIT', 'TEA')                 |2                   |\n",
                "|('BISCUIT',)                       |7                   |\n",
                "|('BOURNVITA', 'BREAD')             |3                   |\n",
                "|('BOURNVITA', 'BREAD', 'SUGER')    |1                   |\n",
                "|('BOURNVITA', 'BREAD', 'TEA')      |2                   |\n",
                "|('BOURNVITA', 'COFFEE')            |1                   |\n",
                "|('BOURNVITA', 'COFFEE', 'SUGER')   |1                   |\n",
                "|('BOURNVITA', 'SUGER')             |2                   |\n",
                "|('BOURNVITA', 'TEA')               |2                   |\n",
                "|('BOURNVITA',)                     |4                   |\n",
                "|('BREAD', 'COCK')                  |1                   |\n",
                "|('BREAD', 'COCK', 'COFFEE')        |1                   |\n",
                "|('BREAD', 'COFFEE')                |3                   |\n",
                "|('BREAD', 'COFFEE', 'SUGER')       |2                   |\n",
                "|('BREAD', 'CORNFLAKES')            |1                   |\n",
                "|('BREAD', 'CORNFLAKES', 'MILK')    |1                   |\n",
                "|('BREAD', 'JAM')                   |2                   |\n",
                "|('BREAD', 'JAM', 'MAGGI')          |2                   |\n",
                "|('BREAD', 'JAM', 'MILK')           |1                   |\n",
                "|('BREAD', 'JAM', 'TEA')            |1                   |\n",
                "|('BREAD', 'MAGGI')                 |3                   |\n",
                "|('BREAD', 'MAGGI', 'MILK')         |1                   |\n",
                "|('BREAD', 'MAGGI', 'TEA')          |2                   |\n",
                "|('BREAD', 'MILK')                  |4                   |\n",
                "|('BREAD', 'SUGER')                 |4                   |\n",
                "|('BREAD', 'TEA')                   |4                   |\n",
                "|('BREAD',)                         |13                  |\n",
                "|('COCK', 'COFFEE')                 |3                   |\n",
                "|('COCK', 'COFFEE', 'CORNFLAKES')   |2                   |\n",
                "|('COCK', 'CORNFLAKES')             |2                   |\n",
                "|('COCK',)                          |3                   |\n",
                "|('COFFEE', 'CORNFLAKES')           |4                   |\n",
                "|('COFFEE', 'CORNFLAKES', 'MILK')   |1                   |\n",
                "+-----------------------------------+--------------------+\n",
                "</code>\n",
                "</pre>\n",
                "\n",
                "Votre sortie devra ainsi être **exactement** la même, sans quoi aucun point ne pourra vous être attribué pour cette question.\n"
            ]
        },
        {
            "cell_type": "code",
            "execution_count": 58,
            "metadata": {
                "id": "67IKY_4MMa0C"
            },
            "outputs": [
                {
                    "name": "stdout",
                    "output_type": "stream",
                    "text": [
                        "+-----------------------------------+--------------------+\n",
                        "|patterns                           |combined_occurrences|\n",
                        "+-----------------------------------+--------------------+\n",
                        "|('BISCUIT', 'BREAD')               |4                   |\n",
                        "|('BISCUIT', 'BREAD', 'CORNFLAKES') |1                   |\n",
                        "|('BISCUIT', 'BREAD', 'MAGGI')      |1                   |\n",
                        "|('BISCUIT', 'BREAD', 'MILK')       |2                   |\n",
                        "|('BISCUIT', 'BREAD', 'SUGER')      |1                   |\n",
                        "|('BISCUIT', 'BREAD', 'TEA')        |1                   |\n",
                        "|('BISCUIT', 'COCK')                |2                   |\n",
                        "|('BISCUIT', 'COCK', 'COFFEE')      |2                   |\n",
                        "|('BISCUIT', 'COCK', 'CORNFLAKES')  |2                   |\n",
                        "|('BISCUIT', 'COFFEE')              |2                   |\n",
                        "|('BISCUIT', 'COFFEE', 'CORNFLAKES')|2                   |\n",
                        "|('BISCUIT', 'CORNFLAKES')          |3                   |\n",
                        "|('BISCUIT', 'CORNFLAKES', 'MILK')  |1                   |\n",
                        "|('BISCUIT', 'MAGGI')               |2                   |\n",
                        "|('BISCUIT', 'MAGGI', 'TEA')        |2                   |\n",
                        "|('BISCUIT', 'MILK')                |2                   |\n",
                        "|('BISCUIT', 'SUGER')               |1                   |\n",
                        "|('BISCUIT', 'TEA')                 |2                   |\n",
                        "|('BISCUIT',)                       |7                   |\n",
                        "|('BOURNVITA', 'BREAD')             |3                   |\n",
                        "|('BOURNVITA', 'BREAD', 'SUGER')    |1                   |\n",
                        "|('BOURNVITA', 'BREAD', 'TEA')      |2                   |\n",
                        "|('BOURNVITA', 'COFFEE')            |1                   |\n",
                        "|('BOURNVITA', 'COFFEE', 'SUGER')   |1                   |\n",
                        "|('BOURNVITA', 'SUGER')             |2                   |\n",
                        "|('BOURNVITA', 'TEA')               |2                   |\n",
                        "|('BOURNVITA',)                     |4                   |\n",
                        "|('BREAD', 'COCK')                  |1                   |\n",
                        "|('BREAD', 'COCK', 'COFFEE')        |1                   |\n",
                        "|('BREAD', 'COFFEE')                |3                   |\n",
                        "|('BREAD', 'COFFEE', 'SUGER')       |2                   |\n",
                        "|('BREAD', 'CORNFLAKES')            |1                   |\n",
                        "|('BREAD', 'CORNFLAKES', 'MILK')    |1                   |\n",
                        "|('BREAD', 'JAM')                   |2                   |\n",
                        "|('BREAD', 'JAM', 'MAGGI')          |2                   |\n",
                        "|('BREAD', 'JAM', 'MILK')           |1                   |\n",
                        "|('BREAD', 'JAM', 'TEA')            |1                   |\n",
                        "|('BREAD', 'MAGGI')                 |3                   |\n",
                        "|('BREAD', 'MAGGI', 'MILK')         |1                   |\n",
                        "|('BREAD', 'MAGGI', 'TEA')          |2                   |\n",
                        "|('BREAD', 'MILK')                  |4                   |\n",
                        "|('BREAD', 'SUGER')                 |4                   |\n",
                        "|('BREAD', 'TEA')                   |4                   |\n",
                        "|('BREAD',)                         |13                  |\n",
                        "|('COCK', 'COFFEE')                 |3                   |\n",
                        "|('COCK', 'COFFEE', 'CORNFLAKES')   |2                   |\n",
                        "|('COCK', 'CORNFLAKES')             |2                   |\n",
                        "|('COCK',)                          |3                   |\n",
                        "|('COFFEE', 'CORNFLAKES')           |4                   |\n",
                        "|('COFFEE', 'CORNFLAKES', 'MILK')   |1                   |\n",
                        "+-----------------------------------+--------------------+\n",
                        "only showing top 50 rows\n",
                        "\n"
                    ]
                }
            ],
            "source": [
                "def reduce_patterns(v1, v2):\n",
                "    return v1 + v2\n",
                "\n",
                "combined_patterns_rdd = patterns_rdd.reduceByKey(reduce_patterns)\n",
                "\n",
                "# Output as dataframe\n",
                "combined_patterns_rdd.map(format_tuples).toDF(['patterns', 'combined_occurrences']).sort(['patterns']).show(50, truncate=False)"
            ]
        },
        {
            "cell_type": "markdown",
            "metadata": {
                "id": "6BME1VugMa0F"
            },
            "source": [
                "### 2.3 Map to subpatterns (15 points)\n",
                "Ensuite, une autre fonction **map** doit être appliquée pour générer des sous-motifs. Encore une fois, les sous-motifs sont des éléments KEY-VALUE, où la KEY est également un sous-ensemble de produits. Cependant, la création de la KEY du sous-motif est une procédure différente. Cette fois, l'idée est de décomposer la liste des produits de chaque motif (KEY), de supprimer un produit à la fois et de produire la liste résultante en tant que nouvelle clé de sous-motif.\n",
                "\n",
                "Par exemple, pour un modèle donné $P$ avec trois produits, $p_1, p_2$ et $p_3$, trois nouvelles clés de sous-motifs vont être créées: (i) supprimer $p_1$ et retourner ($p_2, p_3$) ; (ii) supprimer $p_2$ et retourner ($p_1, p_3$); et (iii) supprimer $p_3$ et retourner ($p_1, p_2$).\n",
                "\n",
                "De plus, la structure VALUE du sous-motif sera également différente. Au lieu d'une seule valeur entière unique comme nous l'avons eu dans les motifs, cette fois un *tuple* devrait être créé pour le sous-motif VALUE. Ce tuple contient le produit qui a été retiré lors de la remise de la KEY et le nombre de fois que le motif est apparu. Par exemple ci-dessus, les valeurs doivent être ($p_1,v$), ($p_2,v$) et ($p_3,v $), respectivement, où $v$ est la VALEUR du motif.\n",
                "\n",
                "L'idée derrière les sous-motif est de créer **des règles** telles que : lorsque les produits de KEY ont été achetés, l'article présent dans la VALEUR a également été acheté *v* fois. En outre, chaque motif doit également produire un sous-motif dans lequel la clé est la même liste de produits du motif, mais la valeur est un tuple avec un produit nul (None) et le nombre de fois que le motif est apparu. Cet élément sera utile pour garder une trace du nombre de fois où un tel motif a été trouvé et sera utilisé ultérieurement pour calculer la valeur de confiance lors de la génération des règles d'association.\n",
                "\n",
                "Maintenant, implémentez la fonction **map_to_subpatterns** qui reçoit un motif et produit tous les sous-motif trouvés. Encore une fois, chaque entrée (motif) générera plus d'un élément KEY-VALUE, puis une fonction flatMap doit être appelée.\n",
                "\n",
                "Pour le \"grocery dataset\", la sortie attendue est:\n",
                "\n",
                "<pre style=\"align:center; border:1px solid black;font-size: 8pt; line-height: 1.1; height: auto; width: 20em; padding-left:5px\">\n",
                "<code>\n",
                "+-----------------------------------+-----------------+\n",
                "|subpatterns                        |rules            |\n",
                "+-----------------------------------+-----------------+\n",
                "|('BISCUIT', 'BREAD')               |(None, 4)        |\n",
                "|('BISCUIT', 'BREAD')               |('MILK', 2)      |\n",
                "|('BISCUIT', 'BREAD')               |('CORNFLAKES', 1)|\n",
                "|('BISCUIT', 'BREAD')               |('MAGGI', 1)     |\n",
                "|('BISCUIT', 'BREAD')               |('TEA', 1)       |\n",
                "|('BISCUIT', 'BREAD')               |('SUGER', 1)     |\n",
                "|('BISCUIT', 'BREAD', 'CORNFLAKES') |(None, 1)        |\n",
                "|('BISCUIT', 'BREAD', 'MAGGI')      |(None, 1)        |\n",
                "|('BISCUIT', 'BREAD', 'MILK')       |(None, 2)        |\n",
                "|('BISCUIT', 'BREAD', 'SUGER')      |(None, 1)        |\n",
                "|('BISCUIT', 'BREAD', 'TEA')        |(None, 1)        |\n",
                "|('BISCUIT', 'COCK')                |(None, 2)        |\n",
                "|('BISCUIT', 'COCK')                |('COFFEE', 2)    |\n",
                "|('BISCUIT', 'COCK')                |('CORNFLAKES', 2)|\n",
                "|('BISCUIT', 'COCK', 'COFFEE')      |(None, 2)        |\n",
                "|('BISCUIT', 'COCK', 'CORNFLAKES')  |(None, 2)        |\n",
                "|('BISCUIT', 'COFFEE')              |(None, 2)        |\n",
                "|('BISCUIT', 'COFFEE')              |('COCK', 2)      |\n",
                "|('BISCUIT', 'COFFEE')              |('CORNFLAKES', 2)|\n",
                "|('BISCUIT', 'COFFEE', 'CORNFLAKES')|(None, 2)        |\n",
                "|('BISCUIT', 'CORNFLAKES')          |(None, 3)        |\n",
                "|('BISCUIT', 'CORNFLAKES')          |('BREAD', 1)     |\n",
                "|('BISCUIT', 'CORNFLAKES')          |('MILK', 1)      |\n",
                "|('BISCUIT', 'CORNFLAKES')          |('COCK', 2)      |\n",
                "|('BISCUIT', 'CORNFLAKES')          |('COFFEE', 2)    |\n",
                "|('BISCUIT', 'CORNFLAKES', 'MILK')  |(None, 1)        |\n",
                "|('BISCUIT', 'MAGGI')               |(None, 2)        |\n",
                "|('BISCUIT', 'MAGGI')               |('TEA', 2)       |\n",
                "|('BISCUIT', 'MAGGI')               |('BREAD', 1)     |\n",
                "|('BISCUIT', 'MAGGI', 'TEA')        |(None, 2)        |\n",
                "|('BISCUIT', 'MILK')                |(None, 2)        |\n",
                "|('BISCUIT', 'MILK')                |('BREAD', 2)     |\n",
                "|('BISCUIT', 'MILK')                |('CORNFLAKES', 1)|\n",
                "|('BISCUIT', 'SUGER')               |(None, 1)        |\n",
                "|('BISCUIT', 'SUGER')               |('BREAD', 1)     |\n",
                "|('BISCUIT', 'TEA')                 |(None, 2)        |\n",
                "|('BISCUIT', 'TEA')                 |('MAGGI', 2)     |\n",
                "|('BISCUIT', 'TEA')                 |('BREAD', 1)     |\n",
                "|('BISCUIT',)                       |(None, 7)        |\n",
                "|('BISCUIT',)                       |('BREAD', 4)     |\n",
                "|('BISCUIT',)                       |('MILK', 2)      |\n",
                "|('BISCUIT',)                       |('CORNFLAKES', 3)|\n",
                "|('BISCUIT',)                       |('MAGGI', 2)     |\n",
                "|('BISCUIT',)                       |('TEA', 2)       |\n",
                "|('BISCUIT',)                       |('COCK', 2)      |\n",
                "|('BISCUIT',)                       |('COFFEE', 2)    |\n",
                "|('BISCUIT',)                       |('SUGER', 1)     |\n",
                "|('BOURNVITA', 'BREAD')             |(None, 3)        |\n",
                "|('BOURNVITA', 'BREAD')             |('TEA', 2)       |\n",
                "|('BOURNVITA', 'BREAD')             |('SUGER', 1)     |\n",
                "+-----------------------------------+-----------------+\n",
                "</code>\n",
                "</pre>\n",
                "\n",
                "Votre sortie devra ainsi être **exactement** la même, sans quoi aucun point ne pourra vous être attribué pour cette question."
            ]
        },
        {
            "cell_type": "code",
            "execution_count": 59,
            "metadata": {
                "id": "t8aLrdMuMa0G"
            },
            "outputs": [
                {
                    "name": "stdout",
                    "output_type": "stream",
                    "text": [
                        "+-----------------------------------+-----------------+\n",
                        "|subpatterns                        |rules            |\n",
                        "+-----------------------------------+-----------------+\n",
                        "|('BISCUIT', 'BREAD')               |('MILK', 2)      |\n",
                        "|('BISCUIT', 'BREAD')               |(None, 4)        |\n",
                        "|('BISCUIT', 'BREAD')               |('CORNFLAKES', 1)|\n",
                        "|('BISCUIT', 'BREAD')               |('MAGGI', 1)     |\n",
                        "|('BISCUIT', 'BREAD')               |('TEA', 1)       |\n",
                        "|('BISCUIT', 'BREAD')               |('SUGER', 1)     |\n",
                        "|('BISCUIT', 'BREAD', 'CORNFLAKES') |(None, 1)        |\n",
                        "|('BISCUIT', 'BREAD', 'MAGGI')      |(None, 1)        |\n",
                        "|('BISCUIT', 'BREAD', 'MILK')       |(None, 2)        |\n",
                        "|('BISCUIT', 'BREAD', 'SUGER')      |(None, 1)        |\n",
                        "|('BISCUIT', 'BREAD', 'TEA')        |(None, 1)        |\n",
                        "|('BISCUIT', 'COCK')                |('COFFEE', 2)    |\n",
                        "|('BISCUIT', 'COCK')                |('CORNFLAKES', 2)|\n",
                        "|('BISCUIT', 'COCK')                |(None, 2)        |\n",
                        "|('BISCUIT', 'COCK', 'COFFEE')      |(None, 2)        |\n",
                        "|('BISCUIT', 'COCK', 'CORNFLAKES')  |(None, 2)        |\n",
                        "|('BISCUIT', 'COFFEE')              |('COCK', 2)      |\n",
                        "|('BISCUIT', 'COFFEE')              |('CORNFLAKES', 2)|\n",
                        "|('BISCUIT', 'COFFEE')              |(None, 2)        |\n",
                        "|('BISCUIT', 'COFFEE', 'CORNFLAKES')|(None, 2)        |\n",
                        "|('BISCUIT', 'CORNFLAKES')          |('BREAD', 1)     |\n",
                        "|('BISCUIT', 'CORNFLAKES')          |('MILK', 1)      |\n",
                        "|('BISCUIT', 'CORNFLAKES')          |(None, 3)        |\n",
                        "|('BISCUIT', 'CORNFLAKES')          |('COCK', 2)      |\n",
                        "|('BISCUIT', 'CORNFLAKES')          |('COFFEE', 2)    |\n",
                        "|('BISCUIT', 'CORNFLAKES', 'MILK')  |(None, 1)        |\n",
                        "|('BISCUIT', 'MAGGI')               |('TEA', 2)       |\n",
                        "|('BISCUIT', 'MAGGI')               |(None, 2)        |\n",
                        "|('BISCUIT', 'MAGGI')               |('BREAD', 1)     |\n",
                        "|('BISCUIT', 'MAGGI', 'TEA')        |(None, 2)        |\n",
                        "|('BISCUIT', 'MILK')                |('BREAD', 2)     |\n",
                        "|('BISCUIT', 'MILK')                |(None, 2)        |\n",
                        "|('BISCUIT', 'MILK')                |('CORNFLAKES', 1)|\n",
                        "|('BISCUIT', 'SUGER')               |('BREAD', 1)     |\n",
                        "|('BISCUIT', 'SUGER')               |(None, 1)        |\n",
                        "|('BISCUIT', 'TEA')                 |('MAGGI', 2)     |\n",
                        "|('BISCUIT', 'TEA')                 |(None, 2)        |\n",
                        "|('BISCUIT', 'TEA')                 |('BREAD', 1)     |\n",
                        "|('BISCUIT',)                       |('BREAD', 4)     |\n",
                        "|('BISCUIT',)                       |('MILK', 2)      |\n",
                        "|('BISCUIT',)                       |(None, 7)        |\n",
                        "|('BISCUIT',)                       |('CORNFLAKES', 3)|\n",
                        "|('BISCUIT',)                       |('MAGGI', 2)     |\n",
                        "|('BISCUIT',)                       |('TEA', 2)       |\n",
                        "|('BISCUIT',)                       |('COCK', 2)      |\n",
                        "|('BISCUIT',)                       |('COFFEE', 2)    |\n",
                        "|('BISCUIT',)                       |('SUGER', 1)     |\n",
                        "|('BOURNVITA', 'BREAD')             |('TEA', 2)       |\n",
                        "|('BOURNVITA', 'BREAD')             |(None, 3)        |\n",
                        "|('BOURNVITA', 'BREAD')             |('SUGER', 1)     |\n",
                        "+-----------------------------------+-----------------+\n",
                        "only showing top 50 rows\n",
                        "\n"
                    ]
                }
            ],
            "source": [
                "from copy import deepcopy\n",
                "def map_to_subpatterns(pattern):\n",
                "    \"\"\"\n",
                "    TODO\n",
                "    \"\"\"\n",
                "    pattern, occurrences = pattern\n",
                "\n",
                "    yield (pattern, (None, occurrences))\n",
                "    for i in range(len(pattern)):\n",
                "        subpattern = list(deepcopy(pattern))\n",
                "        subpattern.pop(i)\n",
                "        subValue = (pattern[i], occurrences)\n",
                "        yield (tuple(subpattern), subValue)\n",
                "\n",
                "\n",
                "subpatterns_rdd = combined_patterns_rdd.flatMap(map_to_subpatterns)\n",
                "\n",
                "# Output as dataframe\n",
                "subpatterns_rdd.map(format_tuples).toDF(['subpatterns', 'rules']).sort(['subpatterns']).show(50, truncate=False)"
            ]
        },
        {
            "cell_type": "markdown",
            "metadata": {
                "id": "jl6TWh8rMa0J"
            },
            "source": [
                "### 2.4 Reduce Subpatterns (2.5 points)\n",
                "\n",
                "Encore une fois, une fonction **reduce** est nécessaire pour regrouper tous les sous-motif par leur KEY. L'objectif de cette procédure de réduction est de créer une liste de toutes les **règles** apparues dans KEY. Par conséquent, la sortie attendue résultant de cette fonction de réduction est également un élément KEY-VALUE, où la clé est la KEY du sous-motif et la valeur est un groupe contenant toutes les valeurs des sous-motif qui partagent la même clé.\n",
                "\n",
                "Pour le \"grocery dataset\", la sortie attendue est:\n",
                "\n",
                "<pre style=\"align:center; border:1px solid black;font-size: 8pt; line-height: 1.1; height: auto; width: 50em; padding-left:5px\">\n",
                "<code>\n",
                "+-----------------------------------+--------------------------------------------------------------------------------------------------------------------------------------------------------------+\n",
                "|subpatterns                        |combined_rules                                                                                                                                                |\n",
                "+-----------------------------------+--------------------------------------------------------------------------------------------------------------------------------------------------------------+\n",
                "|('BISCUIT', 'BREAD')               |[(None, 4), ('MILK', 2), ('CORNFLAKES', 1), ('MAGGI', 1), ('TEA', 1), ('SUGER', 1)]                                                                           |\n",
                "|('BISCUIT', 'BREAD', 'CORNFLAKES') |[(None, 1)]                                                                                                                                                   |\n",
                "|('BISCUIT', 'BREAD', 'MAGGI')      |[(None, 1)]                                                                                                                                                   |\n",
                "|('BISCUIT', 'BREAD', 'MILK')       |[(None, 2)]                                                                                                                                                   |\n",
                "|('BISCUIT', 'BREAD', 'SUGER')      |[(None, 1)]                                                                                                                                                   |\n",
                "|('BISCUIT', 'BREAD', 'TEA')        |[(None, 1)]                                                                                                                                                   |\n",
                "|('BISCUIT', 'COCK')                |[(None, 2), ('COFFEE', 2), ('CORNFLAKES', 2)]                                                                                                                 |\n",
                "|('BISCUIT', 'COCK', 'COFFEE')      |[(None, 2)]                                                                                                                                                   |\n",
                "|('BISCUIT', 'COCK', 'CORNFLAKES')  |[(None, 2)]                                                                                                                                                   |\n",
                "|('BISCUIT', 'COFFEE')              |[(None, 2), ('COCK', 2), ('CORNFLAKES', 2)]                                                                                                                   |\n",
                "|('BISCUIT', 'COFFEE', 'CORNFLAKES')|[(None, 2)]                                                                                                                                                   |\n",
                "|('BISCUIT', 'CORNFLAKES')          |[(None, 3), ('BREAD', 1), ('MILK', 1), ('COCK', 2), ('COFFEE', 2)]                                                                                            |\n",
                "|('BISCUIT', 'CORNFLAKES', 'MILK')  |[(None, 1)]                                                                                                                                                   |\n",
                "|('BISCUIT', 'MAGGI')               |[(None, 2), ('TEA', 2), ('BREAD', 1)]                                                                                                                         |\n",
                "|('BISCUIT', 'MAGGI', 'TEA')        |[(None, 2)]                                                                                                                                                   |\n",
                "|('BISCUIT', 'MILK')                |[(None, 2), ('BREAD', 2), ('CORNFLAKES', 1)]                                                                                                                  |\n",
                "|('BISCUIT', 'SUGER')               |[(None, 1), ('BREAD', 1)]                                                                                                                                     |\n",
                "|('BISCUIT', 'TEA')                 |[(None, 2), ('MAGGI', 2), ('BREAD', 1)]                                                                                                                       |\n",
                "|('BISCUIT',)                       |[(None, 7), ('BREAD', 4), ('MILK', 2), ('CORNFLAKES', 3), ('MAGGI', 2), ('TEA', 2), ('COCK', 2), ('COFFEE', 2), ('SUGER', 1)]                                 |\n",
                "|('BOURNVITA', 'BREAD')             |[(None, 3), ('TEA', 2), ('SUGER', 1)]                                                                                                                         |\n",
                "|('BOURNVITA', 'BREAD', 'SUGER')    |[(None, 1)]                                                                                                                                                   |\n",
                "|('BOURNVITA', 'BREAD', 'TEA')      |[(None, 2)]                                                                                                                                                   |\n",
                "|('BOURNVITA', 'COFFEE')            |[(None, 1), ('SUGER', 1)]                                                                                                                                     |\n",
                "|('BOURNVITA', 'COFFEE', 'SUGER')   |[(None, 1)]                                                                                                                                                   |\n",
                "|('BOURNVITA', 'SUGER')             |[(None, 2), ('COFFEE', 1), ('BREAD', 1)]                                                                                                                      |\n",
                "|('BOURNVITA', 'TEA')               |[(None, 2), ('BREAD', 2)]                                                                                                                                     |\n",
                "|('BOURNVITA',)                     |[(None, 4), ('BREAD', 3), ('TEA', 2), ('COFFEE', 1), ('SUGER', 2)]                                                                                            |\n",
                "|('BREAD', 'COCK')                  |[(None, 1), ('COFFEE', 1)]                                                                                                                                    |\n",
                "|('BREAD', 'COCK', 'COFFEE')        |[(None, 1)]                                                                                                                                                   |\n",
                "|('BREAD', 'COFFEE')                |[(None, 3), ('COCK', 1), ('SUGER', 2)]                                                                                                                        |\n",
                "|('BREAD', 'COFFEE', 'SUGER')       |[(None, 2)]                                                                                                                                                   |\n",
                "|('BREAD', 'CORNFLAKES')            |[(None, 1), ('BISCUIT', 1), ('MILK', 1)]                                                                                                                      |\n",
                "|('BREAD', 'CORNFLAKES', 'MILK')    |[(None, 1)]                                                                                                                                                   |\n",
                "|('BREAD', 'JAM')                   |[(None, 2), ('MAGGI', 2), ('MILK', 1), ('TEA', 1)]                                                                                                            |\n",
                "|('BREAD', 'JAM', 'MAGGI')          |[(None, 2)]                                                                                                                                                   |\n",
                "|('BREAD', 'JAM', 'MILK')           |[(None, 1)]                                                                                                                                                   |\n",
                "|('BREAD', 'JAM', 'TEA')            |[(None, 1)]                                                                                                                                                   |\n",
                "|('BREAD', 'MAGGI')                 |[(None, 3), ('JAM', 2), ('MILK', 1), ('BISCUIT', 1), ('TEA', 2)]                                                                                              |\n",
                "|('BREAD', 'MAGGI', 'MILK')         |[(None, 1)]                                                                                                                                                   |\n",
                "|('BREAD', 'MAGGI', 'TEA')          |[(None, 2)]                                                                                                                                                   |\n",
                "|('BREAD', 'MILK')                  |[(None, 4), ('BISCUIT', 2), ('CORNFLAKES', 1), ('JAM', 1), ('MAGGI', 1)]                                                                                      |\n",
                "|('BREAD', 'SUGER')                 |[(None, 4), ('BISCUIT', 1), ('BOURNVITA', 1), ('COFFEE', 2)]                                                                                                  |\n",
                "|('BREAD', 'TEA')                   |[(None, 4), ('BOURNVITA', 2), ('BISCUIT', 1), ('MAGGI', 2), ('JAM', 1)]                                                                                       |\n",
                "|('BREAD',)                         |[(None, 13), ('BISCUIT', 4), ('MILK', 4), ('CORNFLAKES', 1), ('BOURNVITA', 3), ('TEA', 4), ('JAM', 2), ('MAGGI', 3), ('COCK', 1), ('COFFEE', 3), ('SUGER', 4)]|\n",
                "|('COCK', 'COFFEE')                 |[(None, 3), ('BISCUIT', 2), ('CORNFLAKES', 2), ('BREAD', 1)]                                                                                                  |\n",
                "|('COCK', 'COFFEE', 'CORNFLAKES')   |[(None, 2)]                                                                                                                                                   |\n",
                "|('COCK', 'CORNFLAKES')             |[(None, 2), ('BISCUIT', 2), ('COFFEE', 2)]                                                                                                                    |\n",
                "|('COCK',)                          |[(None, 3), ('BISCUIT', 2), ('COFFEE', 3), ('CORNFLAKES', 2), ('BREAD', 1)]                                                                                   |\n",
                "|('COFFEE', 'CORNFLAKES')           |[(None, 4), ('BISCUIT', 2), ('COCK', 2), ('SUGER', 1), ('MILK', 1), ('TEA', 1)]                                                                               |\n",
                "|('COFFEE', 'CORNFLAKES', 'MILK')   |[(None, 1)]                                                                                                                                                   |\n",
                "+-----------------------------------+--------------------------------------------------------------------------------------------------------------------------------------------------------------+\n",
                "</code>\n",
                "</pre>\n",
                "\n",
                "Votre sortie devra ainsi être **exactement** la même, sans quoi aucun point ne pourra vous être attribué pour cette question.\n"
            ]
        },
        {
            "cell_type": "code",
            "execution_count": 68,
            "metadata": {
                "id": "LOP-SVIhMa0J"
            },
            "outputs": [
                {
                    "name": "stdout",
                    "output_type": "stream",
                    "text": [
                        "+-----------------------------------+--------------------------------------------------------------------------------------------------------------------------------------------------------------+\n",
                        "|subpatterns                        |combined_rules                                                                                                                                                |\n",
                        "+-----------------------------------+--------------------------------------------------------------------------------------------------------------------------------------------------------------+\n",
                        "|('BISCUIT', 'BREAD')               |[('MILK', 2), (None, 4), ('CORNFLAKES', 1), ('MAGGI', 1), ('TEA', 1), ('SUGER', 1)]                                                                           |\n",
                        "|('BISCUIT', 'BREAD', 'CORNFLAKES') |(None, 1)                                                                                                                                                     |\n",
                        "|('BISCUIT', 'BREAD', 'MAGGI')      |(None, 1)                                                                                                                                                     |\n",
                        "|('BISCUIT', 'BREAD', 'MILK')       |(None, 2)                                                                                                                                                     |\n",
                        "|('BISCUIT', 'BREAD', 'SUGER')      |(None, 1)                                                                                                                                                     |\n",
                        "|('BISCUIT', 'BREAD', 'TEA')        |(None, 1)                                                                                                                                                     |\n",
                        "|('BISCUIT', 'COCK')                |[('COFFEE', 2), ('CORNFLAKES', 2), (None, 2)]                                                                                                                 |\n",
                        "|('BISCUIT', 'COCK', 'COFFEE')      |(None, 2)                                                                                                                                                     |\n",
                        "|('BISCUIT', 'COCK', 'CORNFLAKES')  |(None, 2)                                                                                                                                                     |\n",
                        "|('BISCUIT', 'COFFEE')              |[('COCK', 2), ('CORNFLAKES', 2), (None, 2)]                                                                                                                   |\n",
                        "|('BISCUIT', 'COFFEE', 'CORNFLAKES')|(None, 2)                                                                                                                                                     |\n",
                        "|('BISCUIT', 'CORNFLAKES')          |[('BREAD', 1), ('MILK', 1), (None, 3), ('COCK', 2), ('COFFEE', 2)]                                                                                            |\n",
                        "|('BISCUIT', 'CORNFLAKES', 'MILK')  |(None, 1)                                                                                                                                                     |\n",
                        "|('BISCUIT', 'MAGGI')               |[('TEA', 2), (None, 2), ('BREAD', 1)]                                                                                                                         |\n",
                        "|('BISCUIT', 'MAGGI', 'TEA')        |(None, 2)                                                                                                                                                     |\n",
                        "|('BISCUIT', 'MILK')                |[('BREAD', 2), (None, 2), ('CORNFLAKES', 1)]                                                                                                                  |\n",
                        "|('BISCUIT', 'SUGER')               |[('BREAD', 1), (None, 1)]                                                                                                                                     |\n",
                        "|('BISCUIT', 'TEA')                 |[('MAGGI', 2), (None, 2), ('BREAD', 1)]                                                                                                                       |\n",
                        "|('BISCUIT',)                       |[('BREAD', 4), ('MILK', 2), (None, 7), ('CORNFLAKES', 3), ('MAGGI', 2), ('TEA', 2), ('COCK', 2), ('COFFEE', 2), ('SUGER', 1)]                                 |\n",
                        "|('BOURNVITA', 'BREAD')             |[('TEA', 2), (None, 3), ('SUGER', 1)]                                                                                                                         |\n",
                        "|('BOURNVITA', 'BREAD', 'SUGER')    |(None, 1)                                                                                                                                                     |\n",
                        "|('BOURNVITA', 'BREAD', 'TEA')      |(None, 2)                                                                                                                                                     |\n",
                        "|('BOURNVITA', 'COFFEE')            |[('SUGER', 1), (None, 1)]                                                                                                                                     |\n",
                        "|('BOURNVITA', 'COFFEE', 'SUGER')   |(None, 1)                                                                                                                                                     |\n",
                        "|('BOURNVITA', 'SUGER')             |[('COFFEE', 1), (None, 2), ('BREAD', 1)]                                                                                                                      |\n",
                        "|('BOURNVITA', 'TEA')               |[('BREAD', 2), (None, 2)]                                                                                                                                     |\n",
                        "|('BOURNVITA',)                     |[('BREAD', 3), ('TEA', 2), (None, 4), ('COFFEE', 1), ('SUGER', 2)]                                                                                            |\n",
                        "|('BREAD', 'COCK')                  |[('COFFEE', 1), (None, 1)]                                                                                                                                    |\n",
                        "|('BREAD', 'COCK', 'COFFEE')        |(None, 1)                                                                                                                                                     |\n",
                        "|('BREAD', 'COFFEE')                |[('COCK', 1), (None, 3), ('SUGER', 2)]                                                                                                                        |\n",
                        "|('BREAD', 'COFFEE', 'SUGER')       |(None, 2)                                                                                                                                                     |\n",
                        "|('BREAD', 'CORNFLAKES')            |[('BISCUIT', 1), ('MILK', 1), (None, 1)]                                                                                                                      |\n",
                        "|('BREAD', 'CORNFLAKES', 'MILK')    |(None, 1)                                                                                                                                                     |\n",
                        "|('BREAD', 'JAM')                   |[('MAGGI', 2), ('MILK', 1), (None, 2), ('TEA', 1)]                                                                                                            |\n",
                        "|('BREAD', 'JAM', 'MAGGI')          |(None, 2)                                                                                                                                                     |\n",
                        "|('BREAD', 'JAM', 'MILK')           |(None, 1)                                                                                                                                                     |\n",
                        "|('BREAD', 'JAM', 'TEA')            |(None, 1)                                                                                                                                                     |\n",
                        "|('BREAD', 'MAGGI')                 |[('JAM', 2), ('MILK', 1), (None, 3), ('BISCUIT', 1), ('TEA', 2)]                                                                                              |\n",
                        "|('BREAD', 'MAGGI', 'MILK')         |(None, 1)                                                                                                                                                     |\n",
                        "|('BREAD', 'MAGGI', 'TEA')          |(None, 2)                                                                                                                                                     |\n",
                        "|('BREAD', 'MILK')                  |[('BISCUIT', 2), (None, 4), ('CORNFLAKES', 1), ('JAM', 1), ('MAGGI', 1)]                                                                                      |\n",
                        "|('BREAD', 'SUGER')                 |[('BISCUIT', 1), (None, 4), ('BOURNVITA', 1), ('COFFEE', 2)]                                                                                                  |\n",
                        "|('BREAD', 'TEA')                   |[('BOURNVITA', 2), (None, 4), ('BISCUIT', 1), ('MAGGI', 2), ('JAM', 1)]                                                                                       |\n",
                        "|('BREAD',)                         |[('BISCUIT', 4), ('MILK', 4), (None, 13), ('CORNFLAKES', 1), ('BOURNVITA', 3), ('TEA', 4), ('JAM', 2), ('MAGGI', 3), ('COCK', 1), ('COFFEE', 3), ('SUGER', 4)]|\n",
                        "|('COCK', 'COFFEE')                 |[('BISCUIT', 2), ('CORNFLAKES', 2), (None, 3), ('BREAD', 1)]                                                                                                  |\n",
                        "|('COCK', 'COFFEE', 'CORNFLAKES')   |(None, 2)                                                                                                                                                     |\n",
                        "|('COCK', 'CORNFLAKES')             |[('BISCUIT', 2), ('COFFEE', 2), (None, 2)]                                                                                                                    |\n",
                        "|('COCK',)                          |[('BISCUIT', 2), ('COFFEE', 3), ('CORNFLAKES', 2), (None, 3), ('BREAD', 1)]                                                                                   |\n",
                        "|('COFFEE', 'CORNFLAKES')           |[('BISCUIT', 2), ('COCK', 2), (None, 4), ('SUGER', 1), ('MILK', 1), ('TEA', 1)]                                                                               |\n",
                        "|('COFFEE', 'CORNFLAKES', 'MILK')   |(None, 1)                                                                                                                                                     |\n",
                        "+-----------------------------------+--------------------------------------------------------------------------------------------------------------------------------------------------------------+\n",
                        "only showing top 50 rows\n",
                        "\n"
                    ]
                }
            ],
            "source": [
                "def reduce_patterns(v1, v2):\n",
                "    if isinstance(v1, list) and isinstance(v2, list):\n",
                "        v1.extend(v2)\n",
                "        return v1\n",
                "    if isinstance(v1, list):\n",
                "        v1.append(v2)\n",
                "        return v1\n",
                "    if isinstance(v2, list):\n",
                "        v2.append(v1)\n",
                "        return v2\n",
                "    if v1 is None:\n",
                "        return [v2]\n",
                "    if v2 is None:\n",
                "        return [v1]\n",
                "    return [v1, v2]\n",
                "combined_rules = subpatterns_rdd.reduceByKey(reduce_patterns)\n",
                "\n",
                "# Output as dataframe\n",
                "combined_rules.map(format_tuples).toDF(['subpatterns', 'combined_rules']).sort(['subpatterns']).show(50, truncate=False)"
            ]
        },
        {
            "cell_type": "markdown",
            "metadata": {
                "id": "Uh69x3a8Ma0P"
            },
            "source": [
                "### 2.5. Map to Association Rules (15 points)\n",
                "\n",
                "Enfin, la dernière étape de l'algorithme consiste à créer les règles d'association pour effectuer la MBA. Le but de cette fonction Map est de calculer le niveau **de confiance** de l'achat d'un produit, sachant qu'il y a déjà un ensemble de produits dans le panier. Ainsi, la KEY du sous-motif est l'ensemble des produits placés dans le panier et, pour chaque produit présent dans la liste des règles, c'est-à-dire dans la VALEUR, la confiance peut être calculée comme :\n",
                "\n",
                "\\begin{align*}\n",
                "\\frac{\\text{nombre de fois où le produit a été acheté avec KEY}}{\\text{nombre de fois où la KEY est apparue}}\n",
                "\\end{align*}\n",
                "\n",
                "Pour l'exemple donné dans la figure \"workflow\", *le café* a été acheté 20 fois et, dans 17 d'entre eux, le *lait* a été acheté ensemble. Ensuite, le niveau de confiance pour acheter du *lait* sachant que *le café* est dans le panier est $\\frac{17}{20}=0,85$, ce qui signifie que dans 85% des cas où le café a été acheté, le lait a aussi été acheté.\n",
                "\n",
                "Implémentez la fonction **map_to_assoc_rules** qui calcule le niveau de confiance pour chaque sous-motif.\n",
                "\n",
                "Pour le \"grocery dataset\", la sortie attendue est:\n",
                "\n",
                "<pre style=\"align:center; border:1px solid black;font-size: 8pt; line-height: 1.1; height: auto; width: 57em; padding-left:5px\">\n",
                "<code>\n",
                "+-----------------------------------+----------------------------------------------------------------------------------------------------------------------------------------------------------------------------------------------------------------------------------------------------------------------------------------------------------------------------------+\n",
                "|patterns                           |association_rules                                                                                                                                                                                                                                                                                                                 |\n",
                "+-----------------------------------+----------------------------------------------------------------------------------------------------------------------------------------------------------------------------------------------------------------------------------------------------------------------------------------------------------------------------------+\n",
                "|('BISCUIT', 'BREAD')               |[('MILK', 0.5), ('CORNFLAKES', 0.25), ('MAGGI', 0.25), ('TEA', 0.25), ('SUGER', 0.25)]                                                                                                                                                                                                                                            |\n",
                "|('BISCUIT', 'BREAD', 'CORNFLAKES') |[]                                                                                                                                                                                                                                                                                                                                |\n",
                "|('BISCUIT', 'BREAD', 'MAGGI')      |[]                                                                                                                                                                                                                                                                                                                                |\n",
                "|('BISCUIT', 'BREAD', 'MILK')       |[]                                                                                                                                                                                                                                                                                                                                |\n",
                "|('BISCUIT', 'BREAD', 'SUGER')      |[]                                                                                                                                                                                                                                                                                                                                |\n",
                "|('BISCUIT', 'BREAD', 'TEA')        |[]                                                                                                                                                                                                                                                                                                                                |\n",
                "|('BISCUIT', 'COCK')                |[('COFFEE', 1.0), ('CORNFLAKES', 1.0)]                                                                                                                                                                                                                                                                                            |\n",
                "|('BISCUIT', 'COCK', 'COFFEE')      |[]                                                                                                                                                                                                                                                                                                                                |\n",
                "|('BISCUIT', 'COCK', 'CORNFLAKES')  |[]                                                                                                                                                                                                                                                                                                                                |\n",
                "|('BISCUIT', 'COFFEE')              |[('COCK', 1.0), ('CORNFLAKES', 1.0)]                                                                                                                                                                                                                                                                                              |\n",
                "|('BISCUIT', 'COFFEE', 'CORNFLAKES')|[]                                                                                                                                                                                                                                                                                                                                |\n",
                "|('BISCUIT', 'CORNFLAKES')          |[('BREAD', 0.3333333333333333), ('MILK', 0.3333333333333333), ('COCK', 0.6666666666666666), ('COFFEE', 0.6666666666666666)]                                                                                                                                                                                                       |\n",
                "|('BISCUIT', 'CORNFLAKES', 'MILK')  |[]                                                                                                                                                                                                                                                                                                                                |\n",
                "|('BISCUIT', 'MAGGI')               |[('TEA', 1.0), ('BREAD', 0.5)]                                                                                                                                                                                                                                                                                                    |\n",
                "|('BISCUIT', 'MAGGI', 'TEA')        |[]                                                                                                                                                                                                                                                                                                                                |\n",
                "|('BISCUIT', 'MILK')                |[('BREAD', 1.0), ('CORNFLAKES', 0.5)]                                                                                                                                                                                                                                                                                             |\n",
                "|('BISCUIT', 'SUGER')               |[('BREAD', 1.0)]                                                                                                                                                                                                                                                                                                                  |\n",
                "|('BISCUIT', 'TEA')                 |[('MAGGI', 1.0), ('BREAD', 0.5)]                                                                                                                                                                                                                                                                                                  |\n",
                "|('BISCUIT',)                       |[('BREAD', 0.5714285714285714), ('MILK', 0.2857142857142857), ('CORNFLAKES', 0.42857142857142855), ('MAGGI', 0.2857142857142857), ('TEA', 0.2857142857142857), ('COCK', 0.2857142857142857), ('COFFEE', 0.2857142857142857), ('SUGER', 0.14285714285714285)]                                                                      |\n",
                "|('BOURNVITA', 'BREAD')             |[('TEA', 0.6666666666666666), ('SUGER', 0.3333333333333333)]                                                                                                                                                                                                                                                                      |\n",
                "|('BOURNVITA', 'BREAD', 'SUGER')    |[]                                                                                                                                                                                                                                                                                                                                |\n",
                "|('BOURNVITA', 'BREAD', 'TEA')      |[]                                                                                                                                                                                                                                                                                                                                |\n",
                "|('BOURNVITA', 'COFFEE')            |[('SUGER', 1.0)]                                                                                                                                                                                                                                                                                                                  |\n",
                "|('BOURNVITA', 'COFFEE', 'SUGER')   |[]                                                                                                                                                                                                                                                                                                                                |\n",
                "|('BOURNVITA', 'SUGER')             |[('COFFEE', 0.5), ('BREAD', 0.5)]                                                                                                                                                                                                                                                                                                 |\n",
                "|('BOURNVITA', 'TEA')               |[('BREAD', 1.0)]                                                                                                                                                                                                                                                                                                                  |\n",
                "|('BOURNVITA',)                     |[('BREAD', 0.75), ('TEA', 0.5), ('COFFEE', 0.25), ('SUGER', 0.5)]                                                                                                                                                                                                                                                                 |\n",
                "|('BREAD', 'COCK')                  |[('COFFEE', 1.0)]                                                                                                                                                                                                                                                                                                                 |\n",
                "|('BREAD', 'COCK', 'COFFEE')        |[]                                                                                                                                                                                                                                                                                                                                |\n",
                "|('BREAD', 'COFFEE')                |[('COCK', 0.3333333333333333), ('SUGER', 0.6666666666666666)]                                                                                                                                                                                                                                                                     |\n",
                "|('BREAD', 'COFFEE', 'SUGER')       |[]                                                                                                                                                                                                                                                                                                                                |\n",
                "|('BREAD', 'CORNFLAKES')            |[('BISCUIT', 1.0), ('MILK', 1.0)]                                                                                                                                                                                                                                                                                                 |\n",
                "|('BREAD', 'CORNFLAKES', 'MILK')    |[]                                                                                                                                                                                                                                                                                                                                |\n",
                "|('BREAD', 'JAM')                   |[('MAGGI', 1.0), ('MILK', 0.5), ('TEA', 0.5)]                                                                                                                                                                                                                                                                                     |\n",
                "|('BREAD', 'JAM', 'MAGGI')          |[]                                                                                                                                                                                                                                                                                                                                |\n",
                "|('BREAD', 'JAM', 'MILK')           |[]                                                                                                                                                                                                                                                                                                                                |\n",
                "|('BREAD', 'JAM', 'TEA')            |[]                                                                                                                                                                                                                                                                                                                                |\n",
                "|('BREAD', 'MAGGI')                 |[('JAM', 0.6666666666666666), ('MILK', 0.3333333333333333), ('BISCUIT', 0.3333333333333333), ('TEA', 0.6666666666666666)]                                                                                                                                                                                                         |\n",
                "|('BREAD', 'MAGGI', 'MILK')         |[]                                                                                                                                                                                                                                                                                                                                |\n",
                "|('BREAD', 'MAGGI', 'TEA')          |[]                                                                                                                                                                                                                                                                                                                                |\n",
                "|('BREAD', 'MILK')                  |[('BISCUIT', 0.5), ('CORNFLAKES', 0.25), ('JAM', 0.25), ('MAGGI', 0.25)]                                                                                                                                                                                                                                                          |\n",
                "|('BREAD', 'SUGER')                 |[('BISCUIT', 0.25), ('BOURNVITA', 0.25), ('COFFEE', 0.5)]                                                                                                                                                                                                                                                                         |\n",
                "|('BREAD', 'TEA')                   |[('BOURNVITA', 0.5), ('BISCUIT', 0.25), ('MAGGI', 0.5), ('JAM', 0.25)]                                                                                                                                                                                                                                                            |\n",
                "|('BREAD',)                         |[('BISCUIT', 0.3076923076923077), ('MILK', 0.3076923076923077), ('CORNFLAKES', 0.07692307692307693), ('BOURNVITA', 0.23076923076923078), ('TEA', 0.3076923076923077), ('JAM', 0.15384615384615385), ('MAGGI', 0.23076923076923078), ('COCK', 0.07692307692307693), ('COFFEE', 0.23076923076923078), ('SUGER', 0.3076923076923077)]|\n",
                "|('COCK', 'COFFEE')                 |[('BISCUIT', 0.6666666666666666), ('CORNFLAKES', 0.6666666666666666), ('BREAD', 0.3333333333333333)]                                                                                                                                                                                                                              |\n",
                "|('COCK', 'COFFEE', 'CORNFLAKES')   |[]                                                                                                                                                                                                                                                                                                                                |\n",
                "|('COCK', 'CORNFLAKES')             |[('BISCUIT', 1.0), ('COFFEE', 1.0)]                                                                                                                                                                                                                                                                                               |\n",
                "|('COCK',)                          |[('BISCUIT', 0.6666666666666666), ('COFFEE', 1.0), ('CORNFLAKES', 0.6666666666666666), ('BREAD', 0.3333333333333333)]                                                                                                                                                                                                             |\n",
                "|('COFFEE', 'CORNFLAKES')           |[('BISCUIT', 0.5), ('COCK', 0.5), ('SUGER', 0.25), ('MILK', 0.25), ('TEA', 0.25)]                                                                                                                                                                                                                                                 |\n",
                "|('COFFEE', 'CORNFLAKES', 'MILK')   |[]                                                                                                                                                                                                                                                                                                                                |\n",
                "+-----------------------------------+----------------------------------------------------------------------------------------------------------------------------------------------------------------------------------------------------------------------------------------------------------------------------------------------------------------------------------+\n",
                "\n",
                "</code>\n",
                "</pre>\n",
                "\n",
                "Votre sortie devra ainsi être **exactement** la même, sans quoi aucun point ne pourra vous être attribué pour cette question."
            ]
        },
        {
            "cell_type": "code",
            "execution_count": 11,
            "metadata": {
                "id": "DPrbn5CfMa0P"
            },
            "outputs": [
                {
                    "name": "stdout",
                    "output_type": "stream",
                    "text": [
                        "+-----------------------------------+----------------------------------------------------------------------------------------------------------------------------------------------------------------------------------------------------------------------------------------------------------------------------------------------------------------------------------+\n",
                        "|patterns                           |association_rules                                                                                                                                                                                                                                                                                                                 |\n",
                        "+-----------------------------------+----------------------------------------------------------------------------------------------------------------------------------------------------------------------------------------------------------------------------------------------------------------------------------------------------------------------------------+\n",
                        "|('BISCUIT', 'BREAD')               |[('MILK', 0.5), ('CORNFLAKES', 0.25), ('MAGGI', 0.25), ('TEA', 0.25), ('SUGER', 0.25)]                                                                                                                                                                                                                                            |\n",
                        "|('BISCUIT', 'BREAD', 'CORNFLAKES') |[]                                                                                                                                                                                                                                                                                                                                |\n",
                        "|('BISCUIT', 'BREAD', 'MAGGI')      |[]                                                                                                                                                                                                                                                                                                                                |\n",
                        "|('BISCUIT', 'BREAD', 'MILK')       |[]                                                                                                                                                                                                                                                                                                                                |\n",
                        "|('BISCUIT', 'BREAD', 'SUGER')      |[]                                                                                                                                                                                                                                                                                                                                |\n",
                        "|('BISCUIT', 'BREAD', 'TEA')        |[]                                                                                                                                                                                                                                                                                                                                |\n",
                        "|('BISCUIT', 'COCK')                |[('COFFEE', 1.0), ('CORNFLAKES', 1.0)]                                                                                                                                                                                                                                                                                            |\n",
                        "|('BISCUIT', 'COCK', 'COFFEE')      |[]                                                                                                                                                                                                                                                                                                                                |\n",
                        "|('BISCUIT', 'COCK', 'CORNFLAKES')  |[]                                                                                                                                                                                                                                                                                                                                |\n",
                        "|('BISCUIT', 'COFFEE')              |[('COCK', 1.0), ('CORNFLAKES', 1.0)]                                                                                                                                                                                                                                                                                              |\n",
                        "|('BISCUIT', 'COFFEE', 'CORNFLAKES')|[]                                                                                                                                                                                                                                                                                                                                |\n",
                        "|('BISCUIT', 'CORNFLAKES')          |[('BREAD', 0.3333333333333333), ('MILK', 0.3333333333333333), ('COCK', 0.6666666666666666), ('COFFEE', 0.6666666666666666)]                                                                                                                                                                                                       |\n",
                        "|('BISCUIT', 'CORNFLAKES', 'MILK')  |[]                                                                                                                                                                                                                                                                                                                                |\n",
                        "|('BISCUIT', 'MAGGI')               |[('TEA', 1.0), ('BREAD', 0.5)]                                                                                                                                                                                                                                                                                                    |\n",
                        "|('BISCUIT', 'MAGGI', 'TEA')        |[]                                                                                                                                                                                                                                                                                                                                |\n",
                        "|('BISCUIT', 'MILK')                |[('BREAD', 1.0), ('CORNFLAKES', 0.5)]                                                                                                                                                                                                                                                                                             |\n",
                        "|('BISCUIT', 'SUGER')               |[('BREAD', 1.0)]                                                                                                                                                                                                                                                                                                                  |\n",
                        "|('BISCUIT', 'TEA')                 |[('MAGGI', 1.0), ('BREAD', 0.5)]                                                                                                                                                                                                                                                                                                  |\n",
                        "|('BISCUIT',)                       |[('BREAD', 0.5714285714285714), ('MILK', 0.2857142857142857), ('CORNFLAKES', 0.42857142857142855), ('MAGGI', 0.2857142857142857), ('TEA', 0.2857142857142857), ('COCK', 0.2857142857142857), ('COFFEE', 0.2857142857142857), ('SUGER', 0.14285714285714285)]                                                                      |\n",
                        "|('BOURNVITA', 'BREAD')             |[('TEA', 0.6666666666666666), ('SUGER', 0.3333333333333333)]                                                                                                                                                                                                                                                                      |\n",
                        "|('BOURNVITA', 'BREAD', 'SUGER')    |[]                                                                                                                                                                                                                                                                                                                                |\n",
                        "|('BOURNVITA', 'BREAD', 'TEA')      |[]                                                                                                                                                                                                                                                                                                                                |\n",
                        "|('BOURNVITA', 'COFFEE')            |[('SUGER', 1.0)]                                                                                                                                                                                                                                                                                                                  |\n",
                        "|('BOURNVITA', 'COFFEE', 'SUGER')   |[]                                                                                                                                                                                                                                                                                                                                |\n",
                        "|('BOURNVITA', 'SUGER')             |[('COFFEE', 0.5), ('BREAD', 0.5)]                                                                                                                                                                                                                                                                                                 |\n",
                        "|('BOURNVITA', 'TEA')               |[('BREAD', 1.0)]                                                                                                                                                                                                                                                                                                                  |\n",
                        "|('BOURNVITA',)                     |[('BREAD', 0.75), ('TEA', 0.5), ('COFFEE', 0.25), ('SUGER', 0.5)]                                                                                                                                                                                                                                                                 |\n",
                        "|('BREAD', 'COCK')                  |[('COFFEE', 1.0)]                                                                                                                                                                                                                                                                                                                 |\n",
                        "|('BREAD', 'COCK', 'COFFEE')        |[]                                                                                                                                                                                                                                                                                                                                |\n",
                        "|('BREAD', 'COFFEE')                |[('COCK', 0.3333333333333333), ('SUGER', 0.6666666666666666)]                                                                                                                                                                                                                                                                     |\n",
                        "|('BREAD', 'COFFEE', 'SUGER')       |[]                                                                                                                                                                                                                                                                                                                                |\n",
                        "|('BREAD', 'CORNFLAKES')            |[('BISCUIT', 1.0), ('MILK', 1.0)]                                                                                                                                                                                                                                                                                                 |\n",
                        "|('BREAD', 'CORNFLAKES', 'MILK')    |[]                                                                                                                                                                                                                                                                                                                                |\n",
                        "|('BREAD', 'JAM')                   |[('MAGGI', 1.0), ('MILK', 0.5), ('TEA', 0.5)]                                                                                                                                                                                                                                                                                     |\n",
                        "|('BREAD', 'JAM', 'MAGGI')          |[]                                                                                                                                                                                                                                                                                                                                |\n",
                        "|('BREAD', 'JAM', 'MILK')           |[]                                                                                                                                                                                                                                                                                                                                |\n",
                        "|('BREAD', 'JAM', 'TEA')            |[]                                                                                                                                                                                                                                                                                                                                |\n",
                        "|('BREAD', 'MAGGI')                 |[('JAM', 0.6666666666666666), ('MILK', 0.3333333333333333), ('BISCUIT', 0.3333333333333333), ('TEA', 0.6666666666666666)]                                                                                                                                                                                                         |\n",
                        "|('BREAD', 'MAGGI', 'MILK')         |[]                                                                                                                                                                                                                                                                                                                                |\n",
                        "|('BREAD', 'MAGGI', 'TEA')          |[]                                                                                                                                                                                                                                                                                                                                |\n",
                        "|('BREAD', 'MILK')                  |[('BISCUIT', 0.5), ('CORNFLAKES', 0.25), ('JAM', 0.25), ('MAGGI', 0.25)]                                                                                                                                                                                                                                                          |\n",
                        "|('BREAD', 'SUGER')                 |[('BISCUIT', 0.25), ('BOURNVITA', 0.25), ('COFFEE', 0.5)]                                                                                                                                                                                                                                                                         |\n",
                        "|('BREAD', 'TEA')                   |[('BOURNVITA', 0.5), ('BISCUIT', 0.25), ('MAGGI', 0.5), ('JAM', 0.25)]                                                                                                                                                                                                                                                            |\n",
                        "|('BREAD',)                         |[('BISCUIT', 0.3076923076923077), ('MILK', 0.3076923076923077), ('CORNFLAKES', 0.07692307692307693), ('BOURNVITA', 0.23076923076923078), ('TEA', 0.3076923076923077), ('JAM', 0.15384615384615385), ('MAGGI', 0.23076923076923078), ('COCK', 0.07692307692307693), ('COFFEE', 0.23076923076923078), ('SUGER', 0.3076923076923077)]|\n",
                        "|('COCK', 'COFFEE')                 |[('BISCUIT', 0.6666666666666666), ('CORNFLAKES', 0.6666666666666666), ('BREAD', 0.3333333333333333)]                                                                                                                                                                                                                              |\n",
                        "|('COCK', 'COFFEE', 'CORNFLAKES')   |[]                                                                                                                                                                                                                                                                                                                                |\n",
                        "|('COCK', 'CORNFLAKES')             |[('BISCUIT', 1.0), ('COFFEE', 1.0)]                                                                                                                                                                                                                                                                                               |\n",
                        "|('COCK',)                          |[('BISCUIT', 0.6666666666666666), ('COFFEE', 1.0), ('CORNFLAKES', 0.6666666666666666), ('BREAD', 0.3333333333333333)]                                                                                                                                                                                                             |\n",
                        "|('COFFEE', 'CORNFLAKES')           |[('BISCUIT', 0.5), ('COCK', 0.5), ('SUGER', 0.25), ('MILK', 0.25), ('TEA', 0.25)]                                                                                                                                                                                                                                                 |\n",
                        "|('COFFEE', 'CORNFLAKES', 'MILK')   |[]                                                                                                                                                                                                                                                                                                                                |\n",
                        "+-----------------------------------+----------------------------------------------------------------------------------------------------------------------------------------------------------------------------------------------------------------------------------------------------------------------------------------------------------------------------------+\n",
                        "only showing top 50 rows\n",
                        "\n"
                    ]
                }
            ],
            "source": [
                "def map_to_assoc_rules(rules):\n",
                "    \"\"\"\n",
                "    TODO\n",
                "    \"\"\"\n",
                "    if isinstance(rules, tuple):\n",
                "        return []\n",
                "    if rules is None or len(rules) == 0:\n",
                "        return []\n",
                "\n",
                "    nb_occurrences = sum([i for item, i  in rules if item is None])\n",
                "    rules = [(item, i/nb_occurrences if nb_occurrences != 0 else 1.0) for item, i in rules if item is not None]\n",
                "    return rules\n",
                "\n",
                "assoc_rules = combined_rules.mapValues(map_to_assoc_rules)\n",
                "\n",
                "# Output as dataframe\n",
                "assoc_rules.map(format_tuples).toDF(['patterns', 'association_rules']).sort(['patterns']).show(50, truncate=False)"
            ]
        },
        {
            "cell_type": "markdown",
            "metadata": {
                "id": "hA3vXekwqcPo"
            },
            "source": [
                "## 3. VAERS dataset (35 points)"
            ]
        },
        {
            "cell_type": "markdown",
            "metadata": {
                "id": "BPV5g2hwMa0U"
            },
            "source": [
                "Avec votre algorithme MBA prêt à être utilisé, il est maintenant temps de travailler sur l'ensemble de données réel.\n",
                "Pour cette partie du TP, nous l'appliquerons au domaine médical afin de mettre en avant l'apparition de symptômes cooccurents.\n",
                "Cela permet notamment d'anticiper l'apparition de symptômes et ainsi d'effectuer les traitements préventifs adéquates.\n",
                "\n",
                "Pour ce faire, téléchargez le dataset [VAERS]() et lisez sa description (fichier note.txt) pour comprendre la structure de l'ensemble de données.\n",
                "Il s'agit d'une aggrégation et normalisation des données issues du programme états-unien de surveillance [*Vaccine Adverse Event Reporting System*](https://vaers.hhs.gov/index.html), couvrant une période allant de 1990 à 2024.\n",
                "\n",
                "Avant d'appliquer l'algorithme développé sur l'ensemble de données VAERS, vous devez d'abord filtrer les transactions pour qu'elles soient au même format défini par votre algorithme (une transaction par ligne).\n",
                "Pour manipuler les données, nous pouvons utiliser le bloc de données de Spark et le module SQL présenté dans la section 1.\n",
                "\n",
                "La cellule de code suivante utilise le module Spark SQL pour lire les observations de ``OBSERVATIONS_extract.csv`` et les informations détaillées de ``DATA.csv`` et ``SYMPTOMS.csv`` pour construire une dataframe qui contient un liste de tous les symptômes jamais observés pour chaque patient."
            ]
        },
        {
            "cell_type": "markdown",
            "metadata": {
                "id": "3eaInywAwqp5"
            },
            "source": [
                "### Chargement des données"
            ]
        },
        {
            "cell_type": "code",
            "execution_count": 12,
            "metadata": {
                "id": "dcoaqEwByVIM"
            },
            "outputs": [
                {
                    "name": "stdout",
                    "output_type": "stream",
                    "text": [
                        "SYMPTOMS.csv\n",
                        "+----------+--------------------+\n",
                        "|SYMPTOM_ID|        SYMPTOM_NAME|\n",
                        "+----------+--------------------+\n",
                        "|         0|Cardiac vein diss...|\n",
                        "|         1|Vaccination site ...|\n",
                        "|         2|Blood bicarbonate...|\n",
                        "|         3|  Judgement impaired|\n",
                        "|         4|Sinus node dysfun...|\n",
                        "+----------+--------------------+\n",
                        "only showing top 5 rows\n",
                        "\n"
                    ]
                }
            ],
            "source": [
                "df_symptoms = spark.read.csv(ROOT + 'SYMPTOMS.csv', header=True, sep=',', inferSchema=True)\n",
                "print('SYMPTOMS.csv')\n",
                "df_symptoms.show(5)"
            ]
        },
        {
            "cell_type": "code",
            "execution_count": 13,
            "metadata": {
                "id": "DH1zH_0UyWgv"
            },
            "outputs": [
                {
                    "name": "stdout",
                    "output_type": "stream",
                    "text": [
                        "OBSERVATIONS.csv\n",
                        "+--------------+--------+----------+\n",
                        "|OBSERVATION_ID|VAERS_ID|SYMPTOM_ID|\n",
                        "+--------------+--------+----------+\n",
                        "|             0|   25002|      9465|\n",
                        "|             0|   25002|      2581|\n",
                        "|             1|   25010|     14978|\n",
                        "|             2|   25011|      2581|\n",
                        "|             2|   25011|      6620|\n",
                        "+--------------+--------+----------+\n",
                        "only showing top 5 rows\n",
                        "\n"
                    ]
                }
            ],
            "source": [
                "df_observations = spark.read.csv(ROOT + 'OBSERVATIONS_extract.csv', header=True, sep=',', inferSchema=True)\n",
                "print('OBSERVATIONS.csv')\n",
                "df_observations.show(5)"
            ]
        },
        {
            "cell_type": "code",
            "execution_count": 14,
            "metadata": {
                "id": "bR4veBLryXuM"
            },
            "outputs": [
                {
                    "name": "stdout",
                    "output_type": "stream",
                    "text": [
                        "DATA.csv\n",
                        "+--------+-----+-------+---+\n",
                        "|VAERS_ID|STATE|AGE_YRS|SEX|\n",
                        "+--------+-----+-------+---+\n",
                        "|   25002|   FR|   82.0|  M|\n",
                        "|   25010|   FR|    1.7|  M|\n",
                        "|   25011|   FR|    5.0|  F|\n",
                        "|   25064|   FR|   NULL|  F|\n",
                        "|   25055|   FR|   54.0|  F|\n",
                        "+--------+-----+-------+---+\n",
                        "only showing top 5 rows\n",
                        "\n"
                    ]
                }
            ],
            "source": [
                "df_data = spark.read.csv(ROOT + 'DATA.csv', header=True, sep=',', inferSchema=True)\n",
                "print('DATA.csv')\n",
                "df_data.show(5)"
            ]
        },
        {
            "cell_type": "code",
            "execution_count": 15,
            "metadata": {
                "id": "f9cxx8h8EWMm"
            },
            "outputs": [
                {
                    "name": "stdout",
                    "output_type": "stream",
                    "text": [
                        "VAX.csv\n",
                        "+--------+--------+------------------+--------------------+\n",
                        "|VAERS_ID|VAX_TYPE|          VAX_MANU|            VAX_NAME|\n",
                        "+--------+--------+------------------+--------------------+\n",
                        "|   25002|     PPV|  MERCK & CO. INC.|  PNEUMO (PNEUMOVAX)|\n",
                        "|   25010|     MMR|  MERCK & CO. INC.|MEASLES + MUMPS +...|\n",
                        "|   25011|     HEP|SMITHKLINE BEECHAM|   HEP B (ENGERIX-B)|\n",
                        "|   25055|     HEP|SMITHKLINE BEECHAM|   HEP B (ENGERIX-B)|\n",
                        "|   25056|     HEP|SMITHKLINE BEECHAM|   HEP B (ENGERIX-B)|\n",
                        "+--------+--------+------------------+--------------------+\n",
                        "only showing top 5 rows\n",
                        "\n"
                    ]
                }
            ],
            "source": [
                "df_vax = spark.read.csv(ROOT + 'VAX.csv', header=True, sep=',', inferSchema=True)\n",
                "print('VAX.csv')\n",
                "df_vax.show(5)"
            ]
        },
        {
            "cell_type": "markdown",
            "metadata": {
                "id": "4SKrggVywy-P"
            },
            "source": [
                "### Requête avec SQL"
            ]
        },
        {
            "cell_type": "code",
            "execution_count": 16,
            "metadata": {
                "id": "r0j8lixgGl4m"
            },
            "outputs": [],
            "source": [
                "df_observations.createOrReplaceTempView(\"OBSERVATIONS\") # creates table 'observations'\n",
                "df_symptoms.createOrReplaceTempView(\"SYMPTOMS\") # creates table 'symptoms'\n",
                "df_data.createOrReplaceTempView(\"DATA\") # creates table 'data'\n",
                "df_vax.createOrReplaceTempView(\"VAX\") # creates table 'vax'"
            ]
        },
        {
            "cell_type": "code",
            "execution_count": 17,
            "metadata": {
                "id": "mVss9sotT8X9"
            },
            "outputs": [
                {
                    "name": "stdout",
                    "output_type": "stream",
                    "text": [
                        "+--------+------------------------------------------------------------------------------+\n",
                        "|VAERS_ID|SYMPTOMS                                                                      |\n",
                        "+--------+------------------------------------------------------------------------------+\n",
                        "|25002   |[Convulsion, Chills]                                                          |\n",
                        "|25010   |[Bronchitis]                                                                  |\n",
                        "|25011   |[Vomiting, Pyrexia, Convulsion]                                               |\n",
                        "|25055   |[Neoplasm malignant, Nausea, Hepatocellular damage, Hepatic function abnormal]|\n",
                        "|25056   |[Malaise, Hepatic cirrhosis]                                                  |\n",
                        "+--------+------------------------------------------------------------------------------+\n",
                        "only showing top 5 rows\n",
                        "\n"
                    ]
                }
            ],
            "source": [
                "\"\"\"\n",
                "List of symptoms ever contracted by each user\n",
                "\"\"\"\n",
                "spark.sql(\"\"\"\n",
                "  SELECT\n",
                "    data.VAERS_ID,\n",
                "    COLLECT_LIST(symp.SYMPTOM_NAME) AS SYMPTOMS\n",
                "  FROM DATA\n",
                "  INNER JOIN OBSERVATIONS observ ON observ.VAERS_ID = data.VAERS_ID\n",
                "  INNER JOIN SYMPTOMS symp ON observ.SYMPTOM_ID = symp.SYMPTOM_ID\n",
                "  GROUP BY data.VAERS_ID ORDER BY data.VAERS_ID\n",
                "\"\"\").show(5, truncate=False)"
            ]
        },
        {
            "cell_type": "markdown",
            "metadata": {
                "id": "dxNCqA-Uw52I"
            },
            "source": [
                "### Requête avec opérations ensemblistes sur le dataFrame"
            ]
        },
        {
            "cell_type": "code",
            "execution_count": 18,
            "metadata": {
                "id": "6oB1eTkeMa0W"
            },
            "outputs": [
                {
                    "name": "stdout",
                    "output_type": "stream",
                    "text": [
                        "+--------+------------------------------------------------------------------------------+\n",
                        "|VAERS_ID|SYMPTOMS                                                                      |\n",
                        "+--------+------------------------------------------------------------------------------+\n",
                        "|25002   |[Convulsion, Chills]                                                          |\n",
                        "|25010   |[Bronchitis]                                                                  |\n",
                        "|25011   |[Vomiting, Pyrexia, Convulsion]                                               |\n",
                        "|25055   |[Neoplasm malignant, Nausea, Hepatocellular damage, Hepatic function abnormal]|\n",
                        "|25056   |[Malaise, Hepatic cirrhosis]                                                  |\n",
                        "+--------+------------------------------------------------------------------------------+\n",
                        "only showing top 5 rows\n",
                        "\n"
                    ]
                }
            ],
            "source": [
                "\"\"\"\n",
                "List of symptoms ever contracted by each user\n",
                "\"\"\"\n",
                "df_data.join(df_observations, df_observations.VAERS_ID == df_data.VAERS_ID, 'inner')\\\n",
                " .join(df_symptoms, df_symptoms.SYMPTOM_ID == df_observations.SYMPTOM_ID, 'inner')\\\n",
                " .groupBy(df_data.VAERS_ID).agg(f.collect_list(df_symptoms.SYMPTOM_NAME).alias('SYMPTOMS'))\\\n",
                " .orderBy(df_data.VAERS_ID).show(5, truncate=False)"
            ]
        },
        {
            "cell_type": "markdown",
            "metadata": {
                "id": "JEqVeqhkMa0a"
            },
            "source": [
                "### 3.1 Perspectives médicales (20 points)\n",
                "\n",
                "Maintenant, vous êtes le *data scientist*. **En ne considérant que les lignes de ``OBSERVATIONS.csv``**, l'utilisation du module Spark SQL, performant avec SQL ou dataframe, répondez aux questions suivantes:\n",
                "\n",
                "1. Quel est l'âge moyen des patients par états américains ? - 4 pts\n",
                "2. Quels sont les 3 symptômes les plus observés pour chaque entreprise de vaccins ? - 8 pts\n",
                "3. Quelle est le nombre moyen de symptômes pour les 20 vaccins les plus utilisés ? - 8 pts\n",
                "    - utilisez un barplot pour visualiser vos résultats, ordonné selon la popularité des vaccins de cette ensemble de données\n",
                "**La sortie de ces questions doit contenir le NOM des produits, pas leur ID.**"
            ]
        },
        {
            "cell_type": "code",
            "execution_count": 19,
            "metadata": {
                "id": "mduVYG70d__G"
            },
            "outputs": [
                {
                    "name": "stdout",
                    "output_type": "stream",
                    "text": [
                        "+-----+------------------+-------------+\n",
                        "|STATE|          MEAN_AGE|PATIENT_COUNT|\n",
                        "+-----+------------------+-------------+\n",
                        "|   GU| 27.11723514211886|          387|\n",
                        "|   PW|              28.8|            5|\n",
                        "|   VI|30.530808625336928|          371|\n",
                        "|   MP| 33.56537313432836|           67|\n",
                        "|   MH|33.859259259259254|           27|\n",
                        "|   QM|35.333333333333336|            3|\n",
                        "|   AK| 35.90776215277778|         5760|\n",
                        "|   UT|36.270686356073206|        12020|\n",
                        "|   QW|              37.0|            2|\n",
                        "|   ID|38.132485826428265|         9172|\n",
                        "|   LA|  38.3350102572195|        12674|\n",
                        "|   NE|38.541041383989146|         8844|\n",
                        "|   KS| 38.62527567324281|        13331|\n",
                        "|   NM|39.199892049188016|        10653|\n",
                        "|   ND| 39.21987626825044|         4041|\n",
                        "|   TX| 39.71836183051086|        85681|\n",
                        "|   VA|39.775105389341164|        40042|\n",
                        "|   GA| 39.80870667249941|        38861|\n",
                        "|   FR|39.860274312120566|       321568|\n",
                        "|   ME| 39.91859685520857|         9158|\n",
                        "+-----+------------------+-------------+\n",
                        "only showing top 20 rows\n",
                        "\n"
                    ]
                }
            ],
            "source": [
                "\"\"\"\n",
                "TODO\n",
                "Mean age and number of patient by state, sorted by mean age\n",
                "\"\"\"\n",
                "spark.sql(\"\"\"\n",
                "  SELECT\n",
                "    UPPER(STATE) AS STATE,\n",
                "    AVG(AGE_YRS) AS MEAN_AGE,\n",
                "    COUNT(VAERS_ID) AS PATIENT_COUNT\n",
                "  FROM DATA\n",
                "  WHERE AGE_YRS IS NOT NULL\n",
                "  GROUP BY UPPER(STATE)\n",
                "  ORDER BY MEAN_AGE\n",
                "\"\"\").show()\n"
            ]
        },
        {
            "cell_type": "code",
            "execution_count": 20,
            "metadata": {
                "id": "U4oaFriU93Qk"
            },
            "outputs": [
                {
                    "name": "stdout",
                    "output_type": "stream",
                    "text": [
                        "+--------------------+--------------------+\n",
                        "|            VAX_MANU|        TOP_SYMPTOMS|\n",
                        "+--------------------+--------------------+\n",
                        "|     AVENTIS PASTEUR|[Asthenia, Pain, ...|\n",
                        "|  BERNA BIOTECH, LTD|[Alcohol use, Aut...|\n",
                        "| BERNA BIOTECH, LTD.|[Pyrexia, Diarrho...|\n",
                        "|                 BSI|[Grand mal convul...|\n",
                        "|CONNAUGHT LABORAT...|[Pyrexia, Convuls...|\n",
                        "|      CONNAUGHT LTD.|[Pyrexia, Convuls...|\n",
                        "|         CSL LIMITED|[Pyrexia, Vomitin...|\n",
                        "|EMERGENT BIOSOLUT...|[Injection site p...|\n",
                        "|      EVANS VACCINES|[Malaise, Pruritu...|\n",
                        "|GLAXOSMITHKLINE B...|[Pyrexia, Vomitin...|\n",
                        "|        INTERCELL AG|[Syncope, Headach...|\n",
                        "|LEDERLE LABORATORIES|[Pyrexia, Infecti...|\n",
                        "|MASS. PUB HLTH BI...|[Pyrexia, Pruritu...|\n",
                        "| MEDEVA PHARMA, LTD.|[Pyrexia, Pain, P...|\n",
                        "|MEDIMMUNE VACCINE...|[Pyrexia, Cough, ...|\n",
                        "|    MERCK & CO. INC.|[Pyrexia, Headach...|\n",
                        "|MICHIGAN DEPT PUB...|[Oedema, Myasthen...|\n",
                        "|NOVARTIS VACCINES...|[Pyrexia, Vomitin...|\n",
                        "|     ORGANON-TEKNIKA|[Skin ulcer, Inje...|\n",
                        "|         PARKE-DAVIS|[Personality diso...|\n",
                        "+--------------------+--------------------+\n",
                        "only showing top 20 rows\n",
                        "\n"
                    ]
                }
            ],
            "source": [
                "\"\"\"\n",
                "TODO\n",
                "Top 3 most observated symptoms of each company\n",
                "\"\"\"\n",
                "\n",
                "spark.sql(\"\"\"\n",
                "WITH SymptomCounts AS (\n",
                "  SELECT\n",
                "    vax.VAX_MANU,\n",
                "    symp.SYMPTOM_NAME,\n",
                "    COUNT(*) AS SYMPTOM_COUNT\n",
                "  FROM VAX vax\n",
                "  INNER JOIN OBSERVATIONS observ ON vax.VAERS_ID = observ.VAERS_ID\n",
                "  INNER JOIN SYMPTOMS symp ON observ.SYMPTOM_ID = symp.SYMPTOM_ID\n",
                "  GROUP BY vax.VAX_MANU, symp.SYMPTOM_NAME\n",
                "),\n",
                "RankedSymptoms AS (\n",
                "  SELECT\n",
                "    VAX_MANU,\n",
                "    SYMPTOM_NAME,\n",
                "    SYMPTOM_COUNT,\n",
                "    ROW_NUMBER() OVER (PARTITION BY VAX_MANU ORDER BY SYMPTOM_COUNT DESC) AS RANK\n",
                "  FROM SymptomCounts\n",
                "),\n",
                "TopSymptoms AS (\n",
                "  SELECT\n",
                "    VAX_MANU,\n",
                "    SYMPTOM_NAME\n",
                "  FROM RankedSymptoms\n",
                "  WHERE RANK <= 3\n",
                ")\n",
                "SELECT\n",
                "  VAX_MANU,\n",
                "  COLLECT_LIST(SYMPTOM_NAME) AS TOP_SYMPTOMS\n",
                "FROM TopSymptoms\n",
                "GROUP BY VAX_MANU\n",
                "ORDER BY VAX_MANU;\n",
                "\"\"\").show()"
            ]
        },
        {
            "cell_type": "code",
            "execution_count": 21,
            "metadata": {
                "id": "4MODKAihOdCS"
            },
            "outputs": [
                {
                    "name": "stdout",
                    "output_type": "stream",
                    "text": [
                        "+--------------------+------------------+\n",
                        "|            VAX_NAME|      AVG_SYMPTOMS|\n",
                        "+--------------------+------------------+\n",
                        "|      HPV (GARDASIL)| 7.686443813987911|\n",
                        "|VACCINE NOT SPECI...| 7.366101694915254|\n",
                        "|   HEP B (ENGERIX-B)| 6.702782131661442|\n",
                        "|TD ADSORBED (NO B...| 6.331858407079646|\n",
                        "|  PNEUMO (PREVNAR13)| 6.116218181818182|\n",
                        "|    PNEUMO (PREVNAR)| 6.094689699296225|\n",
                        "|INFLUENZA (SEASON...| 6.036664431030628|\n",
                        "| ROTAVIRUS (ROTARIX)| 5.897150939583755|\n",
                        "|        HIB (ACTHIB)| 5.733887138355772|\n",
                        "|  PNEUMO (PNEUMOVAX)| 5.655924170616114|\n",
                        "|MEASLES + MUMPS +...|  5.55440414507772|\n",
                        "|HEP B (RECOMBIVAX...| 5.374750830564784|\n",
                        "|     DTAP (INFANRIX)|5.3560812860175915|\n",
                        "| DTP (NO BRAND NAME)| 5.149868536371604|\n",
                        "| VARICELLA (VARIVAX)|  5.07829181494662|\n",
                        "|POLIO VIRUS, ORAL...|               4.4|\n",
                        "|      HIB (HIBTITER)|3.8426229508196723|\n",
                        "+--------------------+------------------+\n",
                        "\n"
                    ]
                }
            ],
            "source": [
                "\"\"\"\n",
                "TODO\n",
                "Average number of symptomes for the top 20 injected vaccine.\n",
                "\"\"\"\n",
                "\n",
                "spark.sql(\"\"\"\n",
                "WITH VaccineCounts AS (\n",
                "  SELECT\n",
                "    VAX_NAME,\n",
                "    COUNT(*) AS INJECTION_COUNT\n",
                "  FROM VAX\n",
                "  GROUP BY VAX_NAME\n",
                "  ORDER BY INJECTION_COUNT DESC\n",
                "  LIMIT 20\n",
                "),\n",
                "SymptomCounts AS (\n",
                "  SELECT\n",
                "    v.VAX_NAME,\n",
                "    COUNT(o.SYMPTOM_ID) AS SYMPTOM_COUNT\n",
                "  FROM VAX v\n",
                "  INNER JOIN OBSERVATIONS o ON v.VAERS_ID = o.VAERS_ID\n",
                "  GROUP BY v.VAX_NAME, v.VAERS_ID\n",
                "),\n",
                "AverageSymptoms AS (\n",
                "  SELECT\n",
                "    sc.VAX_NAME,\n",
                "    AVG(sc.SYMPTOM_COUNT) AS AVG_SYMPTOMS\n",
                "  FROM SymptomCounts sc\n",
                "  INNER JOIN VaccineCounts vc ON sc.VAX_NAME = vc.VAX_NAME\n",
                "  GROUP BY sc.VAX_NAME\n",
                ")\n",
                "SELECT\n",
                "  VAX_NAME,\n",
                "  AVG_SYMPTOMS\n",
                "FROM AverageSymptoms\n",
                "ORDER BY AVG_SYMPTOMS DESC\n",
                "\"\"\").show()"
            ]
        },
        {
            "cell_type": "markdown",
            "metadata": {
                "id": "PEWqTH1QMa0a"
            },
            "source": [
                "### 3.2 MBA pour les observations de 2024 (15 points)\n",
                "\n",
                "En utilisant les commandes du ``OBSERVATIONS_extract.csv``, créez un bloc de données où chaque ligne contient la colonne ``transaction`` avec la liste des produits achetés, de manière similaire au GroceryDataset. Ensuite, exécutez l'algorithme MBA pour cet ensemble de transactions.\n",
                "\n",
                "- Vous devez signaler le temps passé pour effectuer cette tâche.\n",
                "- La sortie doit contenir le nom des produits."
            ]
        },
        {
            "cell_type": "code",
            "execution_count": 36,
            "metadata": {
                "id": "vxZh_f3hMa0b"
            },
            "outputs": [
                {
                    "name": "stdout",
                    "output_type": "stream",
                    "text": [
                        "+--------------+--------------------+\n",
                        "|OBSERVATION_ID|         transaction|\n",
                        "+--------------+--------------------+\n",
                        "|             0|   Chills,Convulsion|\n",
                        "|             1|          Bronchitis|\n",
                        "|             2|Convulsion,Pyrexi...|\n",
                        "|             3|Hepatic function ...|\n",
                        "|             4|Hepatic cirrhosis...|\n",
                        "|             5|Anaphylactoid rea...|\n",
                        "|             6|Convulsion,Electr...|\n",
                        "|             7|Angina pectoris,A...|\n",
                        "|             8|Anaphylactoid rea...|\n",
                        "|             9|  Congenital anomaly|\n",
                        "|            10|Apnoea,Bradycardi...|\n",
                        "|            11|    Weight decreased|\n",
                        "|            12|Asthenia,Facial p...|\n",
                        "|            13|   Diabetes mellitus|\n",
                        "|            14|              Sepsis|\n",
                        "|            15|Anaphylactoid rea...|\n",
                        "|            16|Asthma,Chest pain...|\n",
                        "|            17|Laryngospasm,Naus...|\n",
                        "|            18|Abortion,Vaginal ...|\n",
                        "|            19|  Convulsion,Pyrexia|\n",
                        "+--------------+--------------------+\n",
                        "only showing top 20 rows\n",
                        "\n",
                        "CPU times: user 594 µs, sys: 651 µs, total: 1.24 ms\n",
                        "Wall time: 409 ms\n"
                    ]
                }
            ],
            "source": [
                "%%time\n",
                "\"\"\"\n",
                "TODO: create a query to create and struct the transactions\n",
                "\"\"\"\n",
                "\n",
                "vacine = spark.sql(\"\"\"\n",
                "    SELECT\n",
                "        o.OBSERVATION_ID,\n",
                "        CONCAT_WS(\",\", COLLECT_LIST(s.SYMPTOM_NAME)) AS transaction\n",
                "    FROM OBSERVATIONS o\n",
                "    INNER JOIN SYMPTOMS s ON o.SYMPTOM_ID = s.SYMPTOM_ID\n",
                "    WHERE o.OBSERVATION_ID IS NOT NULL AND s.SYMPTOM_NAME IS NOT NULL\n",
                "    GROUP BY o.OBSERVATION_ID\n",
                "    ORDER BY o.OBSERVATION_ID\n",
                "\"\"\")\n",
                "vacine.show()"
            ]
        },
        {
            "cell_type": "markdown",
            "metadata": {
                "id": "wJD-Ra-qp5QZ"
            },
            "source": [
                "Attention, l'exécution de cellule-ci devrait prendre plusieurs dizaines de minutes, dépendamment de l'implémentation que vous avez codé."
            ]
        },
        {
            "cell_type": "code",
            "execution_count": 71,
            "metadata": {
                "id": "dewN0YUEMa0h"
            },
            "outputs": [
                {
                    "name": "stdout",
                    "output_type": "stream",
                    "text": [
                        "+----------------------------------------------------------------------------------------------------------+-----------------------------------------------------------------------------------------------------------------------------------------------------------------------------------------------------+\n",
                        "|patterns                                                                                                  |association_rules                                                                                                                                                                                    |\n",
                        "+----------------------------------------------------------------------------------------------------------+-----------------------------------------------------------------------------------------------------------------------------------------------------------------------------------------------------+\n",
                        "|(\"5'nucleotidase\", 'Activated partial thromboplastin time prolonged')                                     |[('Antibody test negative', 1.0), ('Alanine aminotransferase normal', 1.0), ('Aspartate aminotransferase normal', 1.0)]                                                                              |\n",
                        "|(\"5'nucleotidase\", 'Activated partial thromboplastin time prolonged', 'Alanine aminotransferase normal')  |[]                                                                                                                                                                                                   |\n",
                        "|(\"5'nucleotidase\", 'Activated partial thromboplastin time prolonged', 'Antibody test negative')           |[]                                                                                                                                                                                                   |\n",
                        "|(\"5'nucleotidase\", 'Activated partial thromboplastin time prolonged', 'Aspartate aminotransferase normal')|[]                                                                                                                                                                                                   |\n",
                        "|(\"5'nucleotidase\", 'Alanine aminotransferase normal')                                                     |[('Antibody test negative', 1.0), ('Activated partial thromboplastin time prolonged', 1.0), ('Aspartate aminotransferase normal', 1.0)]                                                              |\n",
                        "|(\"5'nucleotidase\", 'Alanine aminotransferase normal', 'Antibody test negative')                           |[]                                                                                                                                                                                                   |\n",
                        "|(\"5'nucleotidase\", 'Alanine aminotransferase normal', 'Aspartate aminotransferase normal')                |[]                                                                                                                                                                                                   |\n",
                        "|(\"5'nucleotidase\", 'Antibody test negative')                                                              |[('Aspartate aminotransferase normal', 1.0), ('Alanine aminotransferase normal', 1.0), ('Activated partial thromboplastin time prolonged', 1.0)]                                                     |\n",
                        "|(\"5'nucleotidase\", 'Antibody test negative', 'Aspartate aminotransferase normal')                         |[]                                                                                                                                                                                                   |\n",
                        "|(\"5'nucleotidase\", 'Aspartate aminotransferase normal')                                                   |[('Antibody test negative', 1.0), ('Activated partial thromboplastin time prolonged', 1.0), ('Alanine aminotransferase normal', 1.0)]                                                                |\n",
                        "|(\"5'nucleotidase\",)                                                                                       |[('Antibody test negative', 1.0), ('Activated partial thromboplastin time prolonged', 1.0), ('Aspartate aminotransferase normal', 1.0), ('Alanine aminotransferase normal', 1.0)]                    |\n",
                        "|(\"Addison's disease\", 'Adrenal disorder')                                                                 |[('Loss of personal independence in daily activities', 1.0), ('Autoimmune disorder', 1.0), ('Fatigue', 1.0)]                                                                                         |\n",
                        "|(\"Addison's disease\", 'Adrenal disorder', 'Autoimmune disorder')                                          |[]                                                                                                                                                                                                   |\n",
                        "|(\"Addison's disease\", 'Adrenal disorder', 'Fatigue')                                                      |[]                                                                                                                                                                                                   |\n",
                        "|(\"Addison's disease\", 'Adrenal disorder', 'Loss of personal independence in daily activities')            |[]                                                                                                                                                                                                   |\n",
                        "|(\"Addison's disease\", 'Altered state of consciousness')                                                   |[('Autoantibody positive', 1.0), ('Abdominal pain', 1.0), ('Asthenia', 1.0)]                                                                                                                         |\n",
                        "|(\"Addison's disease\", 'Altered state of consciousness', 'Asthenia')                                       |[]                                                                                                                                                                                                   |\n",
                        "|(\"Addison's disease\", 'Altered state of consciousness', 'Autoantibody positive')                          |[]                                                                                                                                                                                                   |\n",
                        "|(\"Addison's disease\", 'Arthralgia')                                                                       |[('Cyanosis', 0.5), ('Asthenia', 0.5), ('Abdominal pain upper', 1.0), ('Back pain', 1.0)]                                                                                                            |\n",
                        "|(\"Addison's disease\", 'Arthralgia', 'Asthenia')                                                           |[]                                                                                                                                                                                                   |\n",
                        "|(\"Addison's disease\", 'Arthralgia', 'Back pain')                                                          |[]                                                                                                                                                                                                   |\n",
                        "|(\"Addison's disease\", 'Arthralgia', 'Cyanosis')                                                           |[]                                                                                                                                                                                                   |\n",
                        "|(\"Addison's disease\", 'Asthenia')                                                                         |[('Arthralgia', 0.5), ('Abdominal pain', 0.5), ('Altered state of consciousness', 0.5), ('Abdominal pain upper', 0.5), ('Back pain', 0.5), ('Autoantibody positive', 0.5)]                           |\n",
                        "|(\"Addison's disease\", 'Asthenia', 'Autoantibody positive')                                                |[]                                                                                                                                                                                                   |\n",
                        "|(\"Addison's disease\", 'Asthenia', 'Back pain')                                                            |[]                                                                                                                                                                                                   |\n",
                        "|(\"Addison's disease\", 'Autoantibody positive')                                                            |[('Altered state of consciousness', 1.0), ('Abdominal pain', 1.0), ('Asthenia', 1.0)]                                                                                                                |\n",
                        "|(\"Addison's disease\", 'Autoimmune disorder')                                                              |[('Loss of personal independence in daily activities', 1.0), ('Adrenal disorder', 1.0), ('Fatigue', 1.0)]                                                                                            |\n",
                        "|(\"Addison's disease\", 'Autoimmune disorder', 'Fatigue')                                                   |[]                                                                                                                                                                                                   |\n",
                        "|(\"Addison's disease\", 'Autoimmune disorder', 'Loss of personal independence in daily activities')         |[]                                                                                                                                                                                                   |\n",
                        "|(\"Addison's disease\", 'Back pain')                                                                        |[('Abdominal pain upper', 1.0), ('Cyanosis', 0.5), ('Arthralgia', 1.0), ('Asthenia', 0.5)]                                                                                                           |\n",
                        "|(\"Addison's disease\", 'Back pain', 'Cyanosis')                                                            |[]                                                                                                                                                                                                   |\n",
                        "|(\"Addison's disease\", 'Bile duct stent insertion')                                                        |[('Blood bilirubin increased', 1.0), ('Body height below normal', 1.0), ('Biopsy liver abnormal', 1.0)]                                                                                              |\n",
                        "|(\"Addison's disease\", 'Bile duct stent insertion', 'Biopsy liver abnormal')                               |[]                                                                                                                                                                                                   |\n",
                        "|(\"Addison's disease\", 'Bile duct stent insertion', 'Blood bilirubin increased')                           |[]                                                                                                                                                                                                   |\n",
                        "|(\"Addison's disease\", 'Bile duct stent insertion', 'Body height below normal')                            |[]                                                                                                                                                                                                   |\n",
                        "|(\"Addison's disease\", 'Biopsy liver abnormal')                                                            |[('Body height below normal', 1.0), ('Bile duct stent insertion', 1.0), ('Blood bilirubin increased', 1.0)]                                                                                          |\n",
                        "|(\"Addison's disease\", 'Biopsy liver abnormal', 'Blood bilirubin increased')                               |[]                                                                                                                                                                                                   |\n",
                        "|(\"Addison's disease\", 'Biopsy liver abnormal', 'Body height below normal')                                |[]                                                                                                                                                                                                   |\n",
                        "|(\"Addison's disease\", 'Blood bilirubin increased')                                                        |[('Body height below normal', 1.0), ('Biopsy liver abnormal', 1.0), ('Bile duct stent insertion', 1.0)]                                                                                              |\n",
                        "|(\"Addison's disease\", 'Blood bilirubin increased', 'Body height below normal')                            |[]                                                                                                                                                                                                   |\n",
                        "|(\"Addison's disease\", 'Body height below normal')                                                         |[('Blood bilirubin increased', 1.0), ('Biopsy liver abnormal', 1.0), ('Bile duct stent insertion', 1.0)]                                                                                             |\n",
                        "|(\"Addison's disease\", 'Cyanosis')                                                                         |[('Arthralgia', 1.0), ('Back pain', 1.0), ('Abdominal pain upper', 1.0)]                                                                                                                             |\n",
                        "|(\"Addison's disease\", 'Dizziness')                                                                        |[('Fatigue', 1.0), ('ACTH stimulation test abnormal', 1.0), ('Headache', 1.0)]                                                                                                                       |\n",
                        "|(\"Addison's disease\", 'Dizziness', 'Fatigue')                                                             |[]                                                                                                                                                                                                   |\n",
                        "|(\"Addison's disease\", 'Dizziness', 'Headache')                                                            |[]                                                                                                                                                                                                   |\n",
                        "|(\"Addison's disease\", 'Fatigue')                                                                          |[('Headache', 0.5), ('Loss of personal independence in daily activities', 0.5), ('Dizziness', 0.5), ('ACTH stimulation test abnormal', 0.5), ('Autoimmune disorder', 0.5), ('Adrenal disorder', 0.5)]|\n",
                        "|(\"Addison's disease\", 'Fatigue', 'Headache')                                                              |[]                                                                                                                                                                                                   |\n",
                        "|(\"Addison's disease\", 'Fatigue', 'Loss of personal independence in daily activities')                     |[]                                                                                                                                                                                                   |\n",
                        "|(\"Addison's disease\", 'Headache')                                                                         |[('Fatigue', 1.0), ('Dizziness', 1.0), ('ACTH stimulation test abnormal', 1.0)]                                                                                                                      |\n",
                        "|(\"Addison's disease\", 'Loss of personal independence in daily activities')                                |[('Adrenal disorder', 1.0), ('Fatigue', 1.0), ('Autoimmune disorder', 1.0)]                                                                                                                          |\n",
                        "+----------------------------------------------------------------------------------------------------------+-----------------------------------------------------------------------------------------------------------------------------------------------------------------------------------------------------+\n",
                        "only showing top 50 rows\n",
                        "\n",
                        "CPU times: user 13.1 ms, sys: 0 ns, total: 13.1 ms\n",
                        "Wall time: 5.77 s\n"
                    ]
                }
            ],
            "source": [
                "%%time\n",
                "\"\"\"\n",
                "TODO: run the MBA algorithm and show the first 5 association rules\n",
                "\"\"\"\n",
                "\n",
                "from itertools import combinations\n",
                "\n",
                "vacine_rdd = vacine.rdd\n",
                "vacine_rdd = vacine_rdd.flatMap(map_to_patterns)\n",
                "vacine_rdd = vacine_rdd.reduceByKey(lambda v1, v2: v1 + v2)\n",
                "vacine_rdd = vacine_rdd.flatMap(map_to_subpatterns)\n",
                "vacine_rdd = vacine_rdd.reduceByKey(reduce_patterns)\n",
                "vacine_rdd = vacine_rdd.mapValues(map_to_assoc_rules)\n",
                "\n",
                "vacine_rdd.map(format_tuples).toDF(['patterns', 'association_rules']).sort(['patterns']).show(50, truncate=False)\n"
            ]
        },
        {
            "cell_type": "markdown",
            "metadata": {
                "id": "e06nMh97qgl_"
            },
            "source": [
                "## 4. MBA pour le dataset complet (20 points)\n"
            ]
        },
        {
            "cell_type": "markdown",
            "metadata": {
                "id": "5DkNPEtGMa0l"
            },
            "source": [
                "Comme vous l'avez probablement remarqué, même pour un ensemble de données moins volumineux, l'algorithme MBA est coûteux en calcul. Pour cette raison, cette fois, nous allons répéter le processus, mais en utilisant maintenant Google Cloud Platform (GCP) pour créer un grand cluster. Toutes les instructions pour créer un cluster avec spark et comment soumettre un travail seront expliquées dans le laboratoire. Dans tous les cas, vous devez lire les instructions données dans le ``Instruction_GCP.pdf``.\n",
                "\n",
                "Cette fois, nous travaillerons avec le fichier ``OBSERVATIONS.csv``, qui contient plusieurs millions d'observations.\n",
                "\n",
                "**PRODUCTION ATTENDUE**\n",
                "\n",
                "Après avoir exécuté le MBA pour la plus grande collection d'observation, sélectionnez au hasard UN symptôme observé dans ``OBSERVATIONS`` et affichez les règles d'association (nom du symptôme et valeur d'association) de ce symptôme, c'est-à-dire lorsque le symptôme est seul. La sortie doit être formatée dans un tableau, où chaque ligne contenant les informations d'un symptôme associé.\n",
                "Afin d'accélérer son exécution, vous pouvez créer un second notebook uniquement dédié à cette partie et l'insérer dans le rendu final.\n",
                "\n",
                "- Affichez l'identifiant (SYMPTOM_ID) et le nom du symptôme (SYMPTOM_NAME) sélectionné au hasard.\n",
                "- Signalez le temps d'exécution.\n",
                "\n",
                "**Remarque importante : joignez des captures d'écran de votre sortie et de votre configuration de cluster.**"
            ]
        },
        {
            "cell_type": "code",
            "execution_count": null,
            "metadata": {
                "id": "X1cVWxraMa0l"
            },
            "outputs": [],
            "source": [
                "%%time\n",
                "\"\"\"\n",
                "TODO: create a query to create and struct the transactions from the OBSERVATIONS.csv file\n",
                "\"\"\""
            ]
        },
        {
            "cell_type": "code",
            "execution_count": null,
            "metadata": {
                "id": "MVBQ12b2Ma0o"
            },
            "outputs": [],
            "source": [
                "%%time\n",
                "\"\"\"\n",
                "TODO: run the MBA algorithm and print the requested output\n",
                "\"\"\""
            ]
        }
    ],
    "metadata": {
        "colab": {
            "collapsed_sections": [
                "ZQOy7hD8t76L",
                "s1oZzC-ZQEE0"
            ],
            "provenance": []
        },
        "kernelspec": {
            "display_name": "Python 3",
            "language": "python",
            "name": "python3"
        },
        "language_info": {
            "codemirror_mode": {
                "name": "ipython",
                "version": 3
            },
            "file_extension": ".py",
            "mimetype": "text/x-python",
            "name": "python",
            "nbconvert_exporter": "python",
            "pygments_lexer": "ipython3",
            "version": "3.10.12"
        }
    },
    "nbformat": 4,
    "nbformat_minor": 0
}
